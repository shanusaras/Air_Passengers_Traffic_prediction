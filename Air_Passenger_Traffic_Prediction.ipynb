{
 "cells": [
  {
   "cell_type": "markdown",
   "id": "5d6f88f9",
   "metadata": {},
   "source": [
    "**To create a Time Series model to predict the future passengers traffic**"
   ]
  },
  {
   "cell_type": "code",
   "execution_count": 1,
   "id": "2904a2e4",
   "metadata": {},
   "outputs": [],
   "source": [
    "## importing libraries\n",
    "import pandas as pd\n",
    "import warnings\n",
    "warnings.filterwarnings(\"ignore\")"
   ]
  },
  {
   "cell_type": "code",
   "execution_count": 2,
   "id": "e2c017c0",
   "metadata": {},
   "outputs": [],
   "source": [
    "## Loading the dataset\n",
    "data= pd.read_csv(\"AirPassengers.csv\")\n",
    "\n",
    "# we have data of airline passengers travelled from Jan 1949 to Dec 1960"
   ]
  },
  {
   "cell_type": "code",
   "execution_count": 3,
   "id": "8c426f52",
   "metadata": {},
   "outputs": [
    {
     "data": {
      "text/plain": [
       "(144, 2)"
      ]
     },
     "execution_count": 3,
     "metadata": {},
     "output_type": "execute_result"
    }
   ],
   "source": [
    "data.shape"
   ]
  },
  {
   "cell_type": "code",
   "execution_count": 4,
   "id": "0ed58bc3",
   "metadata": {},
   "outputs": [
    {
     "data": {
      "application/vnd.microsoft.datawrangler.viewer.v0+json": {
       "columns": [
        {
         "name": "index",
         "rawType": "int64",
         "type": "integer"
        },
        {
         "name": "Month",
         "rawType": "object",
         "type": "string"
        },
        {
         "name": "#Passengers",
         "rawType": "int64",
         "type": "integer"
        }
       ],
       "ref": "3503d4c3-304b-4428-9128-b970b58b6127",
       "rows": [
        [
         "0",
         "1949-01",
         "112"
        ],
        [
         "1",
         "1949-02",
         "118"
        ],
        [
         "2",
         "1949-03",
         "132"
        ],
        [
         "3",
         "1949-04",
         "129"
        ],
        [
         "4",
         "1949-05",
         "121"
        ]
       ],
       "shape": {
        "columns": 2,
        "rows": 5
       }
      },
      "text/html": [
       "<div>\n",
       "<style scoped>\n",
       "    .dataframe tbody tr th:only-of-type {\n",
       "        vertical-align: middle;\n",
       "    }\n",
       "\n",
       "    .dataframe tbody tr th {\n",
       "        vertical-align: top;\n",
       "    }\n",
       "\n",
       "    .dataframe thead th {\n",
       "        text-align: right;\n",
       "    }\n",
       "</style>\n",
       "<table border=\"1\" class=\"dataframe\">\n",
       "  <thead>\n",
       "    <tr style=\"text-align: right;\">\n",
       "      <th></th>\n",
       "      <th>Month</th>\n",
       "      <th>#Passengers</th>\n",
       "    </tr>\n",
       "  </thead>\n",
       "  <tbody>\n",
       "    <tr>\n",
       "      <th>0</th>\n",
       "      <td>1949-01</td>\n",
       "      <td>112</td>\n",
       "    </tr>\n",
       "    <tr>\n",
       "      <th>1</th>\n",
       "      <td>1949-02</td>\n",
       "      <td>118</td>\n",
       "    </tr>\n",
       "    <tr>\n",
       "      <th>2</th>\n",
       "      <td>1949-03</td>\n",
       "      <td>132</td>\n",
       "    </tr>\n",
       "    <tr>\n",
       "      <th>3</th>\n",
       "      <td>1949-04</td>\n",
       "      <td>129</td>\n",
       "    </tr>\n",
       "    <tr>\n",
       "      <th>4</th>\n",
       "      <td>1949-05</td>\n",
       "      <td>121</td>\n",
       "    </tr>\n",
       "  </tbody>\n",
       "</table>\n",
       "</div>"
      ],
      "text/plain": [
       "     Month  #Passengers\n",
       "0  1949-01          112\n",
       "1  1949-02          118\n",
       "2  1949-03          132\n",
       "3  1949-04          129\n",
       "4  1949-05          121"
      ]
     },
     "execution_count": 4,
     "metadata": {},
     "output_type": "execute_result"
    }
   ],
   "source": [
    "data.head()"
   ]
  },
  {
   "cell_type": "code",
   "execution_count": 5,
   "id": "12b2182f",
   "metadata": {},
   "outputs": [
    {
     "name": "stdout",
     "output_type": "stream",
     "text": [
      "<class 'pandas.core.frame.DataFrame'>\n",
      "RangeIndex: 144 entries, 0 to 143\n",
      "Data columns (total 2 columns):\n",
      " #   Column       Non-Null Count  Dtype \n",
      "---  ------       --------------  ----- \n",
      " 0   Month        144 non-null    object\n",
      " 1   #Passengers  144 non-null    int64 \n",
      "dtypes: int64(1), object(1)\n",
      "memory usage: 2.4+ KB\n"
     ]
    }
   ],
   "source": [
    "data.info()"
   ]
  },
  {
   "cell_type": "code",
   "execution_count": 6,
   "id": "d7e243e8",
   "metadata": {},
   "outputs": [],
   "source": [
    "# Month is given as string here,\n",
    "# we need to convert that into date-time format\n"
   ]
  },
  {
   "cell_type": "code",
   "execution_count": 7,
   "id": "c4f67885",
   "metadata": {},
   "outputs": [],
   "source": [
    "# Parse dastes: Parsing the date (converts the string representation of a data to Date object)\n",
    "# index_col: using date column as index\n",
    "\n",
    "data= pd.read_csv(\"AirPassengers.csv\", parse_dates=[0], index_col=\"Month\")\n",
    "\n",
    "# NOTE:\n",
    "# we are converting the month colun into index--> because we need only passengers feature here for time series analysis"
   ]
  },
  {
   "cell_type": "markdown",
   "id": "1604c04b",
   "metadata": {},
   "source": [
    "### **Basic checks**"
   ]
  },
  {
   "cell_type": "code",
   "execution_count": 8,
   "id": "c462cb26",
   "metadata": {},
   "outputs": [
    {
     "data": {
      "application/vnd.microsoft.datawrangler.viewer.v0+json": {
       "columns": [
        {
         "name": "Month",
         "rawType": "datetime64[ns]",
         "type": "datetime"
        },
        {
         "name": "#Passengers",
         "rawType": "int64",
         "type": "integer"
        }
       ],
       "ref": "6fc7bc2c-c2f5-4fa3-9dad-58f4c8004b39",
       "rows": [
        [
         "1949-01-01 00:00:00",
         "112"
        ],
        [
         "1949-02-01 00:00:00",
         "118"
        ],
        [
         "1949-03-01 00:00:00",
         "132"
        ],
        [
         "1949-04-01 00:00:00",
         "129"
        ],
        [
         "1949-05-01 00:00:00",
         "121"
        ]
       ],
       "shape": {
        "columns": 1,
        "rows": 5
       }
      },
      "text/html": [
       "<div>\n",
       "<style scoped>\n",
       "    .dataframe tbody tr th:only-of-type {\n",
       "        vertical-align: middle;\n",
       "    }\n",
       "\n",
       "    .dataframe tbody tr th {\n",
       "        vertical-align: top;\n",
       "    }\n",
       "\n",
       "    .dataframe thead th {\n",
       "        text-align: right;\n",
       "    }\n",
       "</style>\n",
       "<table border=\"1\" class=\"dataframe\">\n",
       "  <thead>\n",
       "    <tr style=\"text-align: right;\">\n",
       "      <th></th>\n",
       "      <th>#Passengers</th>\n",
       "    </tr>\n",
       "    <tr>\n",
       "      <th>Month</th>\n",
       "      <th></th>\n",
       "    </tr>\n",
       "  </thead>\n",
       "  <tbody>\n",
       "    <tr>\n",
       "      <th>1949-01-01</th>\n",
       "      <td>112</td>\n",
       "    </tr>\n",
       "    <tr>\n",
       "      <th>1949-02-01</th>\n",
       "      <td>118</td>\n",
       "    </tr>\n",
       "    <tr>\n",
       "      <th>1949-03-01</th>\n",
       "      <td>132</td>\n",
       "    </tr>\n",
       "    <tr>\n",
       "      <th>1949-04-01</th>\n",
       "      <td>129</td>\n",
       "    </tr>\n",
       "    <tr>\n",
       "      <th>1949-05-01</th>\n",
       "      <td>121</td>\n",
       "    </tr>\n",
       "  </tbody>\n",
       "</table>\n",
       "</div>"
      ],
      "text/plain": [
       "            #Passengers\n",
       "Month                  \n",
       "1949-01-01          112\n",
       "1949-02-01          118\n",
       "1949-03-01          132\n",
       "1949-04-01          129\n",
       "1949-05-01          121"
      ]
     },
     "execution_count": 8,
     "metadata": {},
     "output_type": "execute_result"
    }
   ],
   "source": [
    "data.head()\n",
    "# now month column is the index"
   ]
  },
  {
   "cell_type": "code",
   "execution_count": 9,
   "id": "679b8fe3",
   "metadata": {},
   "outputs": [
    {
     "data": {
      "application/vnd.microsoft.datawrangler.viewer.v0+json": {
       "columns": [
        {
         "name": "Month",
         "rawType": "datetime64[ns]",
         "type": "datetime"
        },
        {
         "name": "#Passengers",
         "rawType": "int64",
         "type": "integer"
        }
       ],
       "ref": "776be879-ba15-467c-bf25-f6d59d6f040c",
       "rows": [
        [
         "1960-08-01 00:00:00",
         "606"
        ],
        [
         "1960-09-01 00:00:00",
         "508"
        ],
        [
         "1960-10-01 00:00:00",
         "461"
        ],
        [
         "1960-11-01 00:00:00",
         "390"
        ],
        [
         "1960-12-01 00:00:00",
         "432"
        ]
       ],
       "shape": {
        "columns": 1,
        "rows": 5
       }
      },
      "text/html": [
       "<div>\n",
       "<style scoped>\n",
       "    .dataframe tbody tr th:only-of-type {\n",
       "        vertical-align: middle;\n",
       "    }\n",
       "\n",
       "    .dataframe tbody tr th {\n",
       "        vertical-align: top;\n",
       "    }\n",
       "\n",
       "    .dataframe thead th {\n",
       "        text-align: right;\n",
       "    }\n",
       "</style>\n",
       "<table border=\"1\" class=\"dataframe\">\n",
       "  <thead>\n",
       "    <tr style=\"text-align: right;\">\n",
       "      <th></th>\n",
       "      <th>#Passengers</th>\n",
       "    </tr>\n",
       "    <tr>\n",
       "      <th>Month</th>\n",
       "      <th></th>\n",
       "    </tr>\n",
       "  </thead>\n",
       "  <tbody>\n",
       "    <tr>\n",
       "      <th>1960-08-01</th>\n",
       "      <td>606</td>\n",
       "    </tr>\n",
       "    <tr>\n",
       "      <th>1960-09-01</th>\n",
       "      <td>508</td>\n",
       "    </tr>\n",
       "    <tr>\n",
       "      <th>1960-10-01</th>\n",
       "      <td>461</td>\n",
       "    </tr>\n",
       "    <tr>\n",
       "      <th>1960-11-01</th>\n",
       "      <td>390</td>\n",
       "    </tr>\n",
       "    <tr>\n",
       "      <th>1960-12-01</th>\n",
       "      <td>432</td>\n",
       "    </tr>\n",
       "  </tbody>\n",
       "</table>\n",
       "</div>"
      ],
      "text/plain": [
       "            #Passengers\n",
       "Month                  \n",
       "1960-08-01          606\n",
       "1960-09-01          508\n",
       "1960-10-01          461\n",
       "1960-11-01          390\n",
       "1960-12-01          432"
      ]
     },
     "execution_count": 9,
     "metadata": {},
     "output_type": "execute_result"
    }
   ],
   "source": [
    "data.tail()"
   ]
  },
  {
   "cell_type": "code",
   "execution_count": 10,
   "id": "e595dca2",
   "metadata": {},
   "outputs": [
    {
     "data": {
      "application/vnd.microsoft.datawrangler.viewer.v0+json": {
       "columns": [
        {
         "name": "index",
         "rawType": "object",
         "type": "string"
        },
        {
         "name": "#Passengers",
         "rawType": "float64",
         "type": "float"
        }
       ],
       "ref": "138575e9-5d35-41bd-b3b0-960156eaadc3",
       "rows": [
        [
         "count",
         "144.0"
        ],
        [
         "mean",
         "280.2986111111111"
        ],
        [
         "std",
         "119.96631694294321"
        ],
        [
         "min",
         "104.0"
        ],
        [
         "25%",
         "180.0"
        ],
        [
         "50%",
         "265.5"
        ],
        [
         "75%",
         "360.5"
        ],
        [
         "max",
         "622.0"
        ]
       ],
       "shape": {
        "columns": 1,
        "rows": 8
       }
      },
      "text/html": [
       "<div>\n",
       "<style scoped>\n",
       "    .dataframe tbody tr th:only-of-type {\n",
       "        vertical-align: middle;\n",
       "    }\n",
       "\n",
       "    .dataframe tbody tr th {\n",
       "        vertical-align: top;\n",
       "    }\n",
       "\n",
       "    .dataframe thead th {\n",
       "        text-align: right;\n",
       "    }\n",
       "</style>\n",
       "<table border=\"1\" class=\"dataframe\">\n",
       "  <thead>\n",
       "    <tr style=\"text-align: right;\">\n",
       "      <th></th>\n",
       "      <th>#Passengers</th>\n",
       "    </tr>\n",
       "  </thead>\n",
       "  <tbody>\n",
       "    <tr>\n",
       "      <th>count</th>\n",
       "      <td>144.000000</td>\n",
       "    </tr>\n",
       "    <tr>\n",
       "      <th>mean</th>\n",
       "      <td>280.298611</td>\n",
       "    </tr>\n",
       "    <tr>\n",
       "      <th>std</th>\n",
       "      <td>119.966317</td>\n",
       "    </tr>\n",
       "    <tr>\n",
       "      <th>min</th>\n",
       "      <td>104.000000</td>\n",
       "    </tr>\n",
       "    <tr>\n",
       "      <th>25%</th>\n",
       "      <td>180.000000</td>\n",
       "    </tr>\n",
       "    <tr>\n",
       "      <th>50%</th>\n",
       "      <td>265.500000</td>\n",
       "    </tr>\n",
       "    <tr>\n",
       "      <th>75%</th>\n",
       "      <td>360.500000</td>\n",
       "    </tr>\n",
       "    <tr>\n",
       "      <th>max</th>\n",
       "      <td>622.000000</td>\n",
       "    </tr>\n",
       "  </tbody>\n",
       "</table>\n",
       "</div>"
      ],
      "text/plain": [
       "       #Passengers\n",
       "count   144.000000\n",
       "mean    280.298611\n",
       "std     119.966317\n",
       "min     104.000000\n",
       "25%     180.000000\n",
       "50%     265.500000\n",
       "75%     360.500000\n",
       "max     622.000000"
      ]
     },
     "execution_count": 10,
     "metadata": {},
     "output_type": "execute_result"
    }
   ],
   "source": [
    "data.describe()"
   ]
  },
  {
   "cell_type": "markdown",
   "id": "f04e238a",
   "metadata": {},
   "source": [
    "### **EDA**"
   ]
  },
  {
   "cell_type": "code",
   "execution_count": 11,
   "id": "3e65b374",
   "metadata": {},
   "outputs": [
    {
     "data": {
      "image/png": "[encoded data removed]",
      "text/plain": [
       "<Figure size 1200x400 with 1 Axes>"
      ]
     },
     "metadata": {},
     "output_type": "display_data"
    }
   ],
   "source": [
    "import matplotlib.pyplot as plt\n",
    "plt.figure(figsize= (12, 4), facecolor= 'w')\n",
    "plt.plot(data) # lineplot\n",
    "plt.tight_layout()\n",
    "plt.show()\n",
    "\n",
    "# From this plot, the data is non-stationary"
   ]
  },
  {
   "cell_type": "code",
   "execution_count": 12,
   "id": "e31bec37",
   "metadata": {},
   "outputs": [],
   "source": [
    "# we can also check the autocorrelation plot to check if the series is stationary\n",
    "from statsmodels.graphics.tsaplots import plot_acf"
   ]
  },
  {
   "cell_type": "markdown",
   "id": "e3e078ed",
   "metadata": {},
   "source": [
    "**✅ Why Give lags=40 in plot_acf or plot_pacf?**\n",
    "\n",
    "🔹 Because you're asking:\n",
    "\"Show me how far back my current value is significantly correlated with its past values — up to how many time steps?\"\n",
    "\n",
    "So:\n",
    "\n",
    "**If you're modeling monthly data (like the AirPassengers dataset), lags=40 = 40 months = ~3.3 years**\n",
    "\n",
    "**That’s enough to reveal:**\n",
    "\n",
    "- Short-term structure (lags 1–12)\n",
    "- Seasonal effects (lags 12, 24, etc.)\n",
    "- Longer dependencies, if any\n",
    "\n",
    "**What if you don't specify lags?**\n",
    "Then:\n",
    "\n",
    "***plot_acf(data)***\n",
    "Defaults to:\n",
    "***lags = min(10, len(data) // 5)***\n",
    "So if you have 100 data points, you'll only get lags up to 10 — potentially missing seasonal patterns or longer-term lags.\n",
    "\n",
    "🔍 **Real-World Implication**\n",
    "Say your data has:\n",
    "\n",
    "- Strong yearly seasonality (like air passengers → peak in December)\n",
    "\n",
    "If You don’t specify lags\n",
    "\n",
    "- ACF/PACF only shows lag 1 to 10 → ❌ You miss lag 12 spike\n",
    "\n",
    "- You build a weak AR model that doesn’t account for seasonality\n",
    "\n",
    "🧠 Model fails to capture real-world behavior.\n",
    "\n",
    "🎯 **Strategic Lag Rule-of-Thumb**\n",
    "Data Frequency-->\tRecommended lags for ACF/PACF\n",
    "- Daily\t30–90 (to catch weekly/monthly)\n",
    "- Monthly\t36–48 (to catch annual cycles)\n",
    "- Quarterly\t12–20\n",
    "\n",
    "🧠 TL;DR\n",
    "Give lags=40 for monthly data to spot both short-term and seasonal relationships\n",
    "\n",
    "Don't omit lags unless you're just doing a quick glance\n",
    "\n",
    "Always tie lags to the frequency and domain knowledge of your time series\n"
   ]
  },
  {
   "cell_type": "code",
   "execution_count": 37,
   "id": "6f4ffb40",
   "metadata": {},
   "outputs": [
    {
     "data": {
      "image/png": "[encoded data removed]",
      "text/plain": [
       "<Figure size 640x480 with 1 Axes>"
      ]
     },
     "metadata": {},
     "output_type": "display_data"
    }
   ],
   "source": [
    "plot_acf(data, lags= 40)\n",
    "plt.title('Autocorrelation Function (ACF) of Air Passengers')\n",
    "plt.xlabel('Lags')\n",
    "plt.ylabel('Correlation')\n",
    "plt.show()"
   ]
  },
  {
   "cell_type": "code",
   "execution_count": null,
   "id": "fa410172",
   "metadata": {},
   "outputs": [],
   "source": [
    "# Since the data is non=stationary, 👉differencing is done!--> differencing of order 1\n",
    "# Then the stationarity is checked.\n",
    "# If still non-stationary, go for the differncing of order 2"
   ]
  },
  {
   "cell_type": "code",
   "execution_count": 15,
   "id": "e8b491d3",
   "metadata": {},
   "outputs": [],
   "source": [
    "# Differencing of order 1\n",
    "data_diff1= data.diff(periods= 1)"
   ]
  },
  {
   "cell_type": "code",
   "execution_count": 16,
   "id": "bbcd3ab8",
   "metadata": {},
   "outputs": [
    {
     "data": {
      "application/vnd.microsoft.datawrangler.viewer.v0+json": {
       "columns": [
        {
         "name": "Month",
         "rawType": "datetime64[ns]",
         "type": "datetime"
        },
        {
         "name": "#Passengers",
         "rawType": "float64",
         "type": "float"
        }
       ],
       "ref": "9792bbea-1852-44bc-9a62-3d765f5b431e",
       "rows": [
        [
         "1949-01-01 00:00:00",
         null
        ],
        [
         "1949-02-01 00:00:00",
         "6.0"
        ],
        [
         "1949-03-01 00:00:00",
         "14.0"
        ],
        [
         "1949-04-01 00:00:00",
         "-3.0"
        ],
        [
         "1949-05-01 00:00:00",
         "-8.0"
        ],
        [
         "1949-06-01 00:00:00",
         "14.0"
        ],
        [
         "1949-07-01 00:00:00",
         "13.0"
        ],
        [
         "1949-08-01 00:00:00",
         "0.0"
        ],
        [
         "1949-09-01 00:00:00",
         "-12.0"
        ],
        [
         "1949-10-01 00:00:00",
         "-17.0"
        ],
        [
         "1949-11-01 00:00:00",
         "-15.0"
        ],
        [
         "1949-12-01 00:00:00",
         "14.0"
        ],
        [
         "1950-01-01 00:00:00",
         "-3.0"
        ],
        [
         "1950-02-01 00:00:00",
         "11.0"
        ],
        [
         "1950-03-01 00:00:00",
         "15.0"
        ],
        [
         "1950-04-01 00:00:00",
         "-6.0"
        ],
        [
         "1950-05-01 00:00:00",
         "-10.0"
        ],
        [
         "1950-06-01 00:00:00",
         "24.0"
        ],
        [
         "1950-07-01 00:00:00",
         "21.0"
        ],
        [
         "1950-08-01 00:00:00",
         "0.0"
        ],
        [
         "1950-09-01 00:00:00",
         "-12.0"
        ],
        [
         "1950-10-01 00:00:00",
         "-25.0"
        ],
        [
         "1950-11-01 00:00:00",
         "-19.0"
        ],
        [
         "1950-12-01 00:00:00",
         "26.0"
        ],
        [
         "1951-01-01 00:00:00",
         "5.0"
        ],
        [
         "1951-02-01 00:00:00",
         "5.0"
        ],
        [
         "1951-03-01 00:00:00",
         "28.0"
        ],
        [
         "1951-04-01 00:00:00",
         "-15.0"
        ],
        [
         "1951-05-01 00:00:00",
         "9.0"
        ],
        [
         "1951-06-01 00:00:00",
         "6.0"
        ],
        [
         "1951-07-01 00:00:00",
         "21.0"
        ],
        [
         "1951-08-01 00:00:00",
         "0.0"
        ],
        [
         "1951-09-01 00:00:00",
         "-15.0"
        ],
        [
         "1951-10-01 00:00:00",
         "-22.0"
        ],
        [
         "1951-11-01 00:00:00",
         "-16.0"
        ],
        [
         "1951-12-01 00:00:00",
         "20.0"
        ],
        [
         "1952-01-01 00:00:00",
         "5.0"
        ],
        [
         "1952-02-01 00:00:00",
         "9.0"
        ],
        [
         "1952-03-01 00:00:00",
         "13.0"
        ],
        [
         "1952-04-01 00:00:00",
         "-12.0"
        ],
        [
         "1952-05-01 00:00:00",
         "2.0"
        ],
        [
         "1952-06-01 00:00:00",
         "35.0"
        ],
        [
         "1952-07-01 00:00:00",
         "12.0"
        ],
        [
         "1952-08-01 00:00:00",
         "12.0"
        ],
        [
         "1952-09-01 00:00:00",
         "-33.0"
        ],
        [
         "1952-10-01 00:00:00",
         "-18.0"
        ],
        [
         "1952-11-01 00:00:00",
         "-19.0"
        ],
        [
         "1952-12-01 00:00:00",
         "22.0"
        ],
        [
         "1953-01-01 00:00:00",
         "2.0"
        ],
        [
         "1953-02-01 00:00:00",
         "0.0"
        ]
       ],
       "shape": {
        "columns": 1,
        "rows": 144
       }
      },
      "text/html": [
       "<div>\n",
       "<style scoped>\n",
       "    .dataframe tbody tr th:only-of-type {\n",
       "        vertical-align: middle;\n",
       "    }\n",
       "\n",
       "    .dataframe tbody tr th {\n",
       "        vertical-align: top;\n",
       "    }\n",
       "\n",
       "    .dataframe thead th {\n",
       "        text-align: right;\n",
       "    }\n",
       "</style>\n",
       "<table border=\"1\" class=\"dataframe\">\n",
       "  <thead>\n",
       "    <tr style=\"text-align: right;\">\n",
       "      <th></th>\n",
       "      <th>#Passengers</th>\n",
       "    </tr>\n",
       "    <tr>\n",
       "      <th>Month</th>\n",
       "      <th></th>\n",
       "    </tr>\n",
       "  </thead>\n",
       "  <tbody>\n",
       "    <tr>\n",
       "      <th>1949-01-01</th>\n",
       "      <td>NaN</td>\n",
       "    </tr>\n",
       "    <tr>\n",
       "      <th>1949-02-01</th>\n",
       "      <td>6.0</td>\n",
       "    </tr>\n",
       "    <tr>\n",
       "      <th>1949-03-01</th>\n",
       "      <td>14.0</td>\n",
       "    </tr>\n",
       "    <tr>\n",
       "      <th>1949-04-01</th>\n",
       "      <td>-3.0</td>\n",
       "    </tr>\n",
       "    <tr>\n",
       "      <th>1949-05-01</th>\n",
       "      <td>-8.0</td>\n",
       "    </tr>\n",
       "    <tr>\n",
       "      <th>...</th>\n",
       "      <td>...</td>\n",
       "    </tr>\n",
       "    <tr>\n",
       "      <th>1960-08-01</th>\n",
       "      <td>-16.0</td>\n",
       "    </tr>\n",
       "    <tr>\n",
       "      <th>1960-09-01</th>\n",
       "      <td>-98.0</td>\n",
       "    </tr>\n",
       "    <tr>\n",
       "      <th>1960-10-01</th>\n",
       "      <td>-47.0</td>\n",
       "    </tr>\n",
       "    <tr>\n",
       "      <th>1960-11-01</th>\n",
       "      <td>-71.0</td>\n",
       "    </tr>\n",
       "    <tr>\n",
       "      <th>1960-12-01</th>\n",
       "      <td>42.0</td>\n",
       "    </tr>\n",
       "  </tbody>\n",
       "</table>\n",
       "<p>144 rows × 1 columns</p>\n",
       "</div>"
      ],
      "text/plain": [
       "            #Passengers\n",
       "Month                  \n",
       "1949-01-01          NaN\n",
       "1949-02-01          6.0\n",
       "1949-03-01         14.0\n",
       "1949-04-01         -3.0\n",
       "1949-05-01         -8.0\n",
       "...                 ...\n",
       "1960-08-01        -16.0\n",
       "1960-09-01        -98.0\n",
       "1960-10-01        -47.0\n",
       "1960-11-01        -71.0\n",
       "1960-12-01         42.0\n",
       "\n",
       "[144 rows x 1 columns]"
      ]
     },
     "execution_count": 16,
     "metadata": {},
     "output_type": "execute_result"
    }
   ],
   "source": [
    "data_diff1"
   ]
  },
  {
   "cell_type": "code",
   "execution_count": 17,
   "id": "5e33a589",
   "metadata": {},
   "outputs": [
    {
     "data": {
      "application/vnd.microsoft.datawrangler.viewer.v0+json": {
       "columns": [
        {
         "name": "Month",
         "rawType": "datetime64[ns]",
         "type": "datetime"
        },
        {
         "name": "#Passengers",
         "rawType": "float64",
         "type": "float"
        }
       ],
       "ref": "2059cd7e-fc35-4f8c-8c53-52e3a63c40ae",
       "rows": [
        [
         "1949-02-01 00:00:00",
         "6.0"
        ],
        [
         "1949-03-01 00:00:00",
         "14.0"
        ],
        [
         "1949-04-01 00:00:00",
         "-3.0"
        ],
        [
         "1949-05-01 00:00:00",
         "-8.0"
        ],
        [
         "1949-06-01 00:00:00",
         "14.0"
        ],
        [
         "1949-07-01 00:00:00",
         "13.0"
        ],
        [
         "1949-08-01 00:00:00",
         "0.0"
        ],
        [
         "1949-09-01 00:00:00",
         "-12.0"
        ],
        [
         "1949-10-01 00:00:00",
         "-17.0"
        ],
        [
         "1949-11-01 00:00:00",
         "-15.0"
        ],
        [
         "1949-12-01 00:00:00",
         "14.0"
        ],
        [
         "1950-01-01 00:00:00",
         "-3.0"
        ],
        [
         "1950-02-01 00:00:00",
         "11.0"
        ],
        [
         "1950-03-01 00:00:00",
         "15.0"
        ],
        [
         "1950-04-01 00:00:00",
         "-6.0"
        ],
        [
         "1950-05-01 00:00:00",
         "-10.0"
        ],
        [
         "1950-06-01 00:00:00",
         "24.0"
        ],
        [
         "1950-07-01 00:00:00",
         "21.0"
        ],
        [
         "1950-08-01 00:00:00",
         "0.0"
        ],
        [
         "1950-09-01 00:00:00",
         "-12.0"
        ],
        [
         "1950-10-01 00:00:00",
         "-25.0"
        ],
        [
         "1950-11-01 00:00:00",
         "-19.0"
        ],
        [
         "1950-12-01 00:00:00",
         "26.0"
        ],
        [
         "1951-01-01 00:00:00",
         "5.0"
        ],
        [
         "1951-02-01 00:00:00",
         "5.0"
        ],
        [
         "1951-03-01 00:00:00",
         "28.0"
        ],
        [
         "1951-04-01 00:00:00",
         "-15.0"
        ],
        [
         "1951-05-01 00:00:00",
         "9.0"
        ],
        [
         "1951-06-01 00:00:00",
         "6.0"
        ],
        [
         "1951-07-01 00:00:00",
         "21.0"
        ],
        [
         "1951-08-01 00:00:00",
         "0.0"
        ],
        [
         "1951-09-01 00:00:00",
         "-15.0"
        ],
        [
         "1951-10-01 00:00:00",
         "-22.0"
        ],
        [
         "1951-11-01 00:00:00",
         "-16.0"
        ],
        [
         "1951-12-01 00:00:00",
         "20.0"
        ],
        [
         "1952-01-01 00:00:00",
         "5.0"
        ],
        [
         "1952-02-01 00:00:00",
         "9.0"
        ],
        [
         "1952-03-01 00:00:00",
         "13.0"
        ],
        [
         "1952-04-01 00:00:00",
         "-12.0"
        ],
        [
         "1952-05-01 00:00:00",
         "2.0"
        ],
        [
         "1952-06-01 00:00:00",
         "35.0"
        ],
        [
         "1952-07-01 00:00:00",
         "12.0"
        ],
        [
         "1952-08-01 00:00:00",
         "12.0"
        ],
        [
         "1952-09-01 00:00:00",
         "-33.0"
        ],
        [
         "1952-10-01 00:00:00",
         "-18.0"
        ],
        [
         "1952-11-01 00:00:00",
         "-19.0"
        ],
        [
         "1952-12-01 00:00:00",
         "22.0"
        ],
        [
         "1953-01-01 00:00:00",
         "2.0"
        ],
        [
         "1953-02-01 00:00:00",
         "0.0"
        ],
        [
         "1953-03-01 00:00:00",
         "40.0"
        ]
       ],
       "shape": {
        "columns": 1,
        "rows": 143
       }
      },
      "text/html": [
       "<div>\n",
       "<style scoped>\n",
       "    .dataframe tbody tr th:only-of-type {\n",
       "        vertical-align: middle;\n",
       "    }\n",
       "\n",
       "    .dataframe tbody tr th {\n",
       "        vertical-align: top;\n",
       "    }\n",
       "\n",
       "    .dataframe thead th {\n",
       "        text-align: right;\n",
       "    }\n",
       "</style>\n",
       "<table border=\"1\" class=\"dataframe\">\n",
       "  <thead>\n",
       "    <tr style=\"text-align: right;\">\n",
       "      <th></th>\n",
       "      <th>#Passengers</th>\n",
       "    </tr>\n",
       "    <tr>\n",
       "      <th>Month</th>\n",
       "      <th></th>\n",
       "    </tr>\n",
       "  </thead>\n",
       "  <tbody>\n",
       "    <tr>\n",
       "      <th>1949-02-01</th>\n",
       "      <td>6.0</td>\n",
       "    </tr>\n",
       "    <tr>\n",
       "      <th>1949-03-01</th>\n",
       "      <td>14.0</td>\n",
       "    </tr>\n",
       "    <tr>\n",
       "      <th>1949-04-01</th>\n",
       "      <td>-3.0</td>\n",
       "    </tr>\n",
       "    <tr>\n",
       "      <th>1949-05-01</th>\n",
       "      <td>-8.0</td>\n",
       "    </tr>\n",
       "    <tr>\n",
       "      <th>1949-06-01</th>\n",
       "      <td>14.0</td>\n",
       "    </tr>\n",
       "    <tr>\n",
       "      <th>...</th>\n",
       "      <td>...</td>\n",
       "    </tr>\n",
       "    <tr>\n",
       "      <th>1960-08-01</th>\n",
       "      <td>-16.0</td>\n",
       "    </tr>\n",
       "    <tr>\n",
       "      <th>1960-09-01</th>\n",
       "      <td>-98.0</td>\n",
       "    </tr>\n",
       "    <tr>\n",
       "      <th>1960-10-01</th>\n",
       "      <td>-47.0</td>\n",
       "    </tr>\n",
       "    <tr>\n",
       "      <th>1960-11-01</th>\n",
       "      <td>-71.0</td>\n",
       "    </tr>\n",
       "    <tr>\n",
       "      <th>1960-12-01</th>\n",
       "      <td>42.0</td>\n",
       "    </tr>\n",
       "  </tbody>\n",
       "</table>\n",
       "<p>143 rows × 1 columns</p>\n",
       "</div>"
      ],
      "text/plain": [
       "            #Passengers\n",
       "Month                  \n",
       "1949-02-01          6.0\n",
       "1949-03-01         14.0\n",
       "1949-04-01         -3.0\n",
       "1949-05-01         -8.0\n",
       "1949-06-01         14.0\n",
       "...                 ...\n",
       "1960-08-01        -16.0\n",
       "1960-09-01        -98.0\n",
       "1960-10-01        -47.0\n",
       "1960-11-01        -71.0\n",
       "1960-12-01         42.0\n",
       "\n",
       "[143 rows x 1 columns]"
      ]
     },
     "execution_count": 17,
     "metadata": {},
     "output_type": "execute_result"
    }
   ],
   "source": [
    "# Remove the 1st row (Nan- due to the diff of order 1)\n",
    "data_diff1= data_diff1.iloc[1:]\n",
    "data_diff1"
   ]
  },
  {
   "cell_type": "code",
   "execution_count": 18,
   "id": "493c48c7",
   "metadata": {},
   "outputs": [],
   "source": [
    "# Plotting the ACF again with the new series(data_diff1) as function of time lag between them"
   ]
  },
  {
   "cell_type": "code",
   "execution_count": 38,
   "id": "9ebbe190",
   "metadata": {},
   "outputs": [
    {
     "data": {
      "image/png": "[encoded data removed]",
      "text/plain": [
       "<Figure size 640x480 with 1 Axes>"
      ]
     },
     "execution_count": 38,
     "metadata": {},
     "output_type": "execute_result"
    },
    {
     "data": {
      "image/png": "[encoded data removed]",
      "text/plain": [
       "<Figure size 640x480 with 1 Axes>"
      ]
     },
     "metadata": {},
     "output_type": "display_data"
    },
    {
     "data": {
      "image/png": "[encoded data removed]",
      "text/plain": [
       "<Figure size 640x480 with 1 Axes>"
      ]
     },
     "metadata": {},
     "output_type": "display_data"
    }
   ],
   "source": [
    "from statsmodels.graphics.tsaplots import plot_acf, plot_pacf\n",
    "plot_acf(data_diff1, lags=40)\n",
    "plot_pacf(data_diff1, lags=40)"
   ]
  },
  {
   "cell_type": "markdown",
   "id": "1f8d038f",
   "metadata": {},
   "source": [
    "**ACF Vs PACF in Time Series**\n",
    "**ACF (Autocorrelation Function)**\n"
   ]
  },
  {
   "cell_type": "code",
   "execution_count": 20,
   "id": "147b3f06",
   "metadata": {},
   "outputs": [],
   "source": [
    "# Observation:\n",
    "# There is a few significiant spikes in lags and fast decline--> hence the series become stationary"
   ]
  },
  {
   "cell_type": "code",
   "execution_count": 21,
   "id": "afc0d365",
   "metadata": {},
   "outputs": [],
   "source": [
    "# Creating and training and testing sets\n",
    "\n",
    "# we cannot use train_test_split as it will randomly take the records for both the set\n",
    "# But in time series, we take records in the given order only. (since every new value depends on the past values)\n"
   ]
  },
  {
   "cell_type": "code",
   "execution_count": 22,
   "id": "28e89525",
   "metadata": {},
   "outputs": [],
   "source": [
    "train_data= data_diff1[:100] # from 0th to 99th record - taken as training data\n",
    "test_data= data_diff1[100:] # from 100th record to the end - testing data\n"
   ]
  },
  {
   "cell_type": "code",
   "execution_count": 23,
   "id": "00d14936",
   "metadata": {},
   "outputs": [
    {
     "data": {
      "text/plain": [
       "(100, 1)"
      ]
     },
     "execution_count": 23,
     "metadata": {},
     "output_type": "execute_result"
    }
   ],
   "source": [
    "train_data.shape"
   ]
  },
  {
   "cell_type": "code",
   "execution_count": 24,
   "id": "0344f2bd",
   "metadata": {},
   "outputs": [
    {
     "data": {
      "text/plain": [
       "(43, 1)"
      ]
     },
     "execution_count": 24,
     "metadata": {},
     "output_type": "execute_result"
    }
   ],
   "source": [
    "test_data.shape"
   ]
  },
  {
   "cell_type": "code",
   "execution_count": null,
   "id": "a4d55f48",
   "metadata": {},
   "outputs": [],
   "source": []
  },
  {
   "cell_type": "code",
   "execution_count": 34,
   "id": "1603f220",
   "metadata": {},
   "outputs": [
    {
     "data": {
      "image/png": "[encoded data removed]",
      "text/plain": [
       "<Figure size 640x480 with 1 Axes>"
      ]
     },
     "execution_count": 34,
     "metadata": {},
     "output_type": "execute_result"
    },
    {
     "data": {
      "image/png": "[encoded data removed]",
      "text/plain": [
       "<Figure size 640x480 with 1 Axes>"
      ]
     },
     "metadata": {},
     "output_type": "display_data"
    },
    {
     "data": {
      "image/png": "[encoded data removed]",
      "text/plain": [
       "<Figure size 640x480 with 1 Axes>"
      ]
     },
     "metadata": {},
     "output_type": "display_data"
    }
   ],
   "source": [
    "from statsmodels.graphics.tsaplots import plot_acf, plot_pacf\n",
    "plot_acf(train_data, lags=40)\n",
    "plot_pacf(train_data, lags=40)"
   ]
  },
  {
   "cell_type": "code",
   "execution_count": 25,
   "id": "9f9f2b0a",
   "metadata": {},
   "outputs": [],
   "source": [
    "## Applying autoregressive model"
   ]
  },
  {
   "cell_type": "code",
   "execution_count": 26,
   "id": "d82ace47",
   "metadata": {},
   "outputs": [],
   "source": [
    "import warnings\n",
    "warnings.filterwarnings(\"ignore\")"
   ]
  },
  {
   "cell_type": "markdown",
   "id": "a380728d",
   "metadata": {},
   "source": [
    "- This is monthly data (we took train_data  for 100 rows so for 100 months~ 8 years)\n",
    "- If we see the plot, we can the seasonal spikes at the end of each year like 12, 24 etc\n",
    "- so to capture seasonal harmonics we have to give minimum 1 year(lag 12)\n",
    "to around lags 24 or 36 \n",
    "- But not too high to avoid overfitting here since we have only 100 rows"
   ]
  },
  {
   "cell_type": "code",
   "execution_count": null,
   "id": "e80f0157",
   "metadata": {},
   "outputs": [],
   "source": [
    "# Lag selection (finding optimal lag order values )and model fit\n",
    "from statsmodels.tsa.ar_model import ar_select_order, AutoReg"
   ]
  },
  {
   "cell_type": "code",
   "execution_count": 36,
   "id": "07c1dcc9",
   "metadata": {},
   "outputs": [
    {
     "name": "stdout",
     "output_type": "stream",
     "text": [
      "Selected lags: [1, 2, 3, 4, 5, 6, 7, 8, 9, 10, 11, 12, 13, 14, 15]\n"
     ]
    }
   ],
   "source": [
    "# Conservative upper bound to avoid overfitting\n",
    "max_lag = min(36, len(train_data) // 2)  # 36 months OR half the data\n",
    "\n",
    "# order = ar_select_order(train_data, maxlag=max_lag, ic='aic', glob=True)\n",
    "\n",
    "# 👆If glob = True means Global Subset Selection--> it tries all the combinations of lags upto maxlag and \n",
    "# gives out the best subset (like feature selection) using AIC ,\n",
    "#   it's like 2^36 ~= 68.7 billion combinations so that much hugh RAM allocation\n",
    "#       will crash the process.\n",
    "\n",
    "\n",
    "# 🧠 Pro Tip: Use glob=True only if:\n",
    "# You have < 15 lags\n",
    "# You suspect only some lags are useful\n",
    "# You have enough RAM\n",
    "# You want the most accurate subset model and can afford compute time\n",
    "\n",
    "# ❌ Avoid it when:\n",
    "# maxlag > 15 → Memory explodes (2^15 = 32,768 subsets)\n",
    "# You have limited RAM\n",
    "# You just need a quick, solid AR model (use glob=False)\n",
    "\n",
    "order = ar_select_order(train_data, maxlag=max_lag, ic='aic', glob=False)\n",
    "print(\"Selected lags:\", order.ar_lags)\n",
    "\n",
    "\n",
    "# these are the specific lag orders (in time steps) selected by the ar_select_order()\n",
    "# function as optimal for the AutoReg model.  \n",
    "\n",
    "# So lag 1, lag2...lag10, lag12, lag 13, lag 15, lag 20 all these lag values will be selected and applied\n",
    "# in the AR equation!"
   ]
  },
  {
   "cell_type": "markdown",
   "id": "17697978",
   "metadata": {},
   "source": [
    "✅ **What Does glob=True Mean in ar_select_order()?**\n",
    "- **glob=True** = Global Subset Selection\n",
    "This means:\n",
    "\n",
    "- “Try all possible combinations of lag variables up to maxlag, and pick the best subset based on AIC/BIC.”\n",
    "\n",
    "- So instead of just testing AR(1), AR(2), … AR(36), it tries:\n",
    "\n",
    "  - [1]\n",
    "\n",
    "  - [1, 2]\n",
    "\n",
    "  - [1, 3]\n",
    "\n",
    "  - [1, 2, 3]\n",
    "\n",
    "  - [4, 12, 24]\n",
    "\n",
    "...\n",
    "\n",
    "- Every subset of lags up to maxlag\n",
    "\n",
    "- This is called Best Subset Selection — extremely powerful, but combinatorially expensive.\n",
    "\n",
    "**🤖 What Happens When glob=False?**\n",
    "- “Only test full AR(p) models for p = 1 to maxlag (i.e., all lags up to p).”\n",
    "\n",
    "- So:\n",
    "\n",
    "  - Try AR(1): lags = [1]\n",
    "\n",
    "  - Try AR(2): lags = [1, 2]\n",
    "\n",
    "  - ...\n",
    "\n",
    "  - Try AR(12): lags = [1, 2, ..., 12]\n",
    "\n",
    "  - This is called sequential order selection — way faster and memory-safe.\n"
   ]
  },
  {
   "cell_type": "code",
   "execution_count": null,
   "id": "61fafa9b",
   "metadata": {},
   "outputs": [],
   "source": [
    "# Except: Lags 5, 8, 9, 11, 14, 16–19 were not selected — \n",
    "# # either because they weren't statistically significant or added noise.\n",
    "\n",
    "# This sparse selection is due to glob=True in ar_select_order(), \n",
    "# # which allows non-contiguous lag selection (like feature selection in ML)."
   ]
  },
  {
   "cell_type": "markdown",
   "id": "ca9ef24a",
   "metadata": {},
   "source": [
    "⚙️ How to Interpret This Practically?\n",
    "\n",
    "- lag 1 (yesterday) is most important — this is expected in most time series.\n",
    "\n",
    "- lag 2, lag 3, lag 4: Short memory effects — e.g., momentum.\n",
    "\n",
    "- lag 7, lag 14: Might hint at **weekly seasonality (if daily data)**.\n",
    "\n",
    "- lag 20: Long memory — could capture **slow trends or long-term effects.**"
   ]
  },
  {
   "cell_type": "markdown",
   "id": "15ecbb23",
   "metadata": {},
   "source": [
    "These lags are the most statistically useful past values to predict the current differenced value, according to AIC (or other IC) used."
   ]
  },
  {
   "cell_type": "markdown",
   "id": "b7dee09d",
   "metadata": {},
   "source": [
    "**maxlag**\n",
    "- It defines the maximum number of lag steps to evaluate as potential features in the AutoReg model.\n",
    "  - Like \"Try all combinations from lag1 up to lag 20 -- and pick the best subset based on the AIC/ BIC\".\n",
    "\n",
    "**How should you choose maxlag?**\n",
    "- ✅ Rule of Thumb (Statistical & Practical)\n",
    "1. Depends on data frequency\n",
    " - Daily data? --> Try maxlag= 30  (monthly pattern)\n",
    " - Hourly data? --> Try maxlag= 48 (2 days), maxlag= 168 (1 week)\n",
    " - Monthly data? --> Try maxlag = 12 (1 year)\n",
    "2. Depends on data volume:\n",
    " - If you have only 100 points, maxlag= 50 will **overfit**\n",
    " - You need enough samples to estimate the coefficients reliably.\n",
    " - Safe upper bound: maxlag= len(train_data)// 10 to len(train_data) // 5\n",
    "3. Depends on your goal:\n",
    " - Short-term memory: ?--> Lower lags(5-20)\n",
    " - Long-term trends? --> Include Higher lags (30 - 60+)\n",
    " - Just want best performance? --> Try a range of maxlag values, and pick the one with the lowest AIC/ BIC\n",
    "\n",
    "🚨 **Pitfalls of blindly setting maxlag=20:**\n",
    "Problem\t--> What Happens\n",
    "- Too low (e.g. 10)--> You miss important patterns (e.g., seasonality at lag 30)\n",
    "- Too high (e.g. 100)--> Overfitting, slow computation, spurious correlations\n",
    "- Just default to 20 -->May miss better models — you're leaving performance on the table"
   ]
  },
  {
   "cell_type": "markdown",
   "id": "c0237bd9",
   "metadata": {},
   "source": [
    "- Set it based on your data's length, frequency, and seasonal structure."
   ]
  },
  {
   "cell_type": "code",
   "execution_count": null,
   "id": "b9022330",
   "metadata": {},
   "outputs": [],
   "source": [
    "# ✅ Pro-Level Strategy: Dynamic Lag Selection\n",
    "# maxlag = min(40, len(train_data) // 5)\n",
    "# order = ar_select_order(train_data, maxlag=maxlag, ic='aic', glob=True)\n",
    "\n",
    "# Or if you suspect weekly/monthly seasonality in daily data:\n",
    "# maxlag = 30 or 60  # Cover ~1–2 months"
   ]
  },
  {
   "cell_type": "code",
   "execution_count": null,
   "id": "2d1c654c",
   "metadata": {},
   "outputs": [],
   "source": [
    "model= AutoReg(train_data, lags= l)\n",
    "ar_m= model.fit()"
   ]
  },
  {
   "cell_type": "code",
   "execution_count": null,
   "id": "9c92461c",
   "metadata": {},
   "outputs": [],
   "source": [
    "# Predict future difference values\n",
    "pred_diff= ar_m.predict(start= 100, end= 142)"
   ]
  },
  {
   "cell_type": "code",
   "execution_count": null,
   "id": "546825b8",
   "metadata": {},
   "outputs": [],
   "source": [
    "from statsmodels.tsa.ar_model import AutoReg\n",
    "ar_model= AutoReg(train_data, lags= []) # it takes 10 positions (10 lag values)\n",
    "ar_m= ar_model.fit()"
   ]
  },
  {
   "cell_type": "code",
   "execution_count": 39,
   "id": "8aa0f3ce",
   "metadata": {},
   "outputs": [],
   "source": [
    "# y_prediction\n",
    "prediction= ar_m.predict(start= 100, end= 142) # give the start index and end value index"
   ]
  },
  {
   "cell_type": "code",
   "execution_count": 40,
   "id": "b69ce7f6",
   "metadata": {},
   "outputs": [
    {
     "data": {
      "text/plain": [
       "[<matplotlib.lines.Line2D at 0x1abeec79d10>]"
      ]
     },
     "execution_count": 40,
     "metadata": {},
     "output_type": "execute_result"
    },
    {
     "data": {
      "image/png": "[encoded data removed]",
      "text/plain": [
       "<Figure size 640x480 with 1 Axes>"
      ]
     },
     "metadata": {},
     "output_type": "display_data"
    }
   ],
   "source": [
    "# comparing y_prediction and y_actual\n",
    "\n",
    "plt.plot(test_data) # y_actual \n",
    "plt.plot(prediction, color= 'green') # y_prediction"
   ]
  },
  {
   "cell_type": "code",
   "execution_count": 27,
   "id": "0ba85bde",
   "metadata": {},
   "outputs": [],
   "source": [
    "# The prediction is random , not insightful at all\n",
    "# so we have to give optimal values of lags and try the model again"
   ]
  },
  {
   "cell_type": "code",
   "execution_count": 29,
   "id": "c3c1169a",
   "metadata": {},
   "outputs": [],
   "source": [
    "from statsmodels.tsa.ar_model import ar_select_order"
   ]
  },
  {
   "cell_type": "code",
   "execution_count": 30,
   "id": "b2dbf964",
   "metadata": {},
   "outputs": [
    {
     "name": "stdout",
     "output_type": "stream",
     "text": [
      "[1, 2, 3, 4, 7, 8, 10, 12, 13, 18]\n"
     ]
    }
   ],
   "source": [
    "find_lags= ar_select_order(data_diff1, maxlag= 20, seasonal= False, ic= 'aic', glob= True)\n",
    "print(find_lags.ar_lags)"
   ]
  },
  {
   "cell_type": "code",
   "execution_count": null,
   "id": "f7032ce1",
   "metadata": {},
   "outputs": [],
   "source": []
  }
 ],
 "metadata": {
  "kernelspec": {
   "display_name": "base",
   "language": "python",
   "name": "python3"
  },
  "language_info": {
   "codemirror_mode": {
    "name": "ipython",
    "version": 3
   },
   "file_extension": ".py",
   "mimetype": "text/x-python",
   "name": "python",
   "nbconvert_exporter": "python",
   "pygments_lexer": "ipython3",
   "version": "3.11.5"
  }
 },
 "nbformat": 4,
 "nbformat_minor": 5
}
