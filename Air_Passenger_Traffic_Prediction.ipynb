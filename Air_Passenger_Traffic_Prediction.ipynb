{
 "cells": [
  {
   "cell_type": "markdown",
   "id": "5d6f88f9",
   "metadata": {},
   "source": [
    "**To create a Time Series model to predict the future passengers traffic**"
   ]
  },
  {
   "cell_type": "code",
   "execution_count": 58,
   "id": "2904a2e4",
   "metadata": {},
   "outputs": [],
   "source": [
    "## importing libraries\n",
    "import pandas as pd\n",
    "import warnings\n",
    "warnings.filterwarnings(\"ignore\")"
   ]
  },
  {
   "cell_type": "code",
   "execution_count": 59,
   "id": "e2c017c0",
   "metadata": {},
   "outputs": [],
   "source": [
    "## Loading the dataset\n",
    "data= pd.read_csv(\"AirPassengers.csv\")\n",
    "\n",
    "# we have data of airline passengers travelled from Jan 1949 to Dec 1960"
   ]
  },
  {
   "cell_type": "code",
   "execution_count": 60,
   "id": "8c426f52",
   "metadata": {},
   "outputs": [
    {
     "data": {
      "text/plain": [
       "(144, 2)"
      ]
     },
     "execution_count": 60,
     "metadata": {},
     "output_type": "execute_result"
    }
   ],
   "source": [
    "data.shape"
   ]
  },
  {
   "cell_type": "code",
   "execution_count": 61,
   "id": "0ed58bc3",
   "metadata": {},
   "outputs": [
    {
     "data": {
      "application/vnd.microsoft.datawrangler.viewer.v0+json": {
       "columns": [
        {
         "name": "index",
         "rawType": "int64",
         "type": "integer"
        },
        {
         "name": "Month",
         "rawType": "object",
         "type": "string"
        },
        {
         "name": "#Passengers",
         "rawType": "int64",
         "type": "integer"
        }
       ],
       "ref": "118a1ba8-8637-4f1c-9d16-ab7cb37e6416",
       "rows": [
        [
         "0",
         "1949-01",
         "112"
        ],
        [
         "1",
         "1949-02",
         "118"
        ],
        [
         "2",
         "1949-03",
         "132"
        ],
        [
         "3",
         "1949-04",
         "129"
        ],
        [
         "4",
         "1949-05",
         "121"
        ]
       ],
       "shape": {
        "columns": 2,
        "rows": 5
       }
      },
      "text/html": [
       "<div>\n",
       "<style scoped>\n",
       "    .dataframe tbody tr th:only-of-type {\n",
       "        vertical-align: middle;\n",
       "    }\n",
       "\n",
       "    .dataframe tbody tr th {\n",
       "        vertical-align: top;\n",
       "    }\n",
       "\n",
       "    .dataframe thead th {\n",
       "        text-align: right;\n",
       "    }\n",
       "</style>\n",
       "<table border=\"1\" class=\"dataframe\">\n",
       "  <thead>\n",
       "    <tr style=\"text-align: right;\">\n",
       "      <th></th>\n",
       "      <th>Month</th>\n",
       "      <th>#Passengers</th>\n",
       "    </tr>\n",
       "  </thead>\n",
       "  <tbody>\n",
       "    <tr>\n",
       "      <th>0</th>\n",
       "      <td>1949-01</td>\n",
       "      <td>112</td>\n",
       "    </tr>\n",
       "    <tr>\n",
       "      <th>1</th>\n",
       "      <td>1949-02</td>\n",
       "      <td>118</td>\n",
       "    </tr>\n",
       "    <tr>\n",
       "      <th>2</th>\n",
       "      <td>1949-03</td>\n",
       "      <td>132</td>\n",
       "    </tr>\n",
       "    <tr>\n",
       "      <th>3</th>\n",
       "      <td>1949-04</td>\n",
       "      <td>129</td>\n",
       "    </tr>\n",
       "    <tr>\n",
       "      <th>4</th>\n",
       "      <td>1949-05</td>\n",
       "      <td>121</td>\n",
       "    </tr>\n",
       "  </tbody>\n",
       "</table>\n",
       "</div>"
      ],
      "text/plain": [
       "     Month  #Passengers\n",
       "0  1949-01          112\n",
       "1  1949-02          118\n",
       "2  1949-03          132\n",
       "3  1949-04          129\n",
       "4  1949-05          121"
      ]
     },
     "execution_count": 61,
     "metadata": {},
     "output_type": "execute_result"
    }
   ],
   "source": [
    "data.head()"
   ]
  },
  {
   "cell_type": "code",
   "execution_count": 62,
   "id": "12b2182f",
   "metadata": {},
   "outputs": [
    {
     "name": "stdout",
     "output_type": "stream",
     "text": [
      "<class 'pandas.core.frame.DataFrame'>\n",
      "RangeIndex: 144 entries, 0 to 143\n",
      "Data columns (total 2 columns):\n",
      " #   Column       Non-Null Count  Dtype \n",
      "---  ------       --------------  ----- \n",
      " 0   Month        144 non-null    object\n",
      " 1   #Passengers  144 non-null    int64 \n",
      "dtypes: int64(1), object(1)\n",
      "memory usage: 2.4+ KB\n"
     ]
    }
   ],
   "source": [
    "data.info()"
   ]
  },
  {
   "cell_type": "code",
   "execution_count": 63,
   "id": "d7e243e8",
   "metadata": {},
   "outputs": [],
   "source": [
    "# Month is given as string here,\n",
    "# we need to convert that into date-time format\n"
   ]
  },
  {
   "cell_type": "code",
   "execution_count": 64,
   "id": "c4f67885",
   "metadata": {},
   "outputs": [],
   "source": [
    "# Parse dastes: Parsing the date (converts the string representation of a data to Date object)\n",
    "# index_col: using date column as index\n",
    "\n",
    "data= pd.read_csv(\"AirPassengers.csv\", parse_dates=[0], index_col=\"Month\")\n",
    "\n",
    "# NOTE:\n",
    "# we are converting the month column into index--> because we need only passengers feature here for time series analysis"
   ]
  },
  {
   "cell_type": "markdown",
   "id": "1604c04b",
   "metadata": {},
   "source": [
    "### **Basic checks**"
   ]
  },
  {
   "cell_type": "code",
   "execution_count": 65,
   "id": "c462cb26",
   "metadata": {},
   "outputs": [
    {
     "data": {
      "application/vnd.microsoft.datawrangler.viewer.v0+json": {
       "columns": [
        {
         "name": "Month",
         "rawType": "datetime64[ns]",
         "type": "datetime"
        },
        {
         "name": "#Passengers",
         "rawType": "int64",
         "type": "integer"
        }
       ],
       "ref": "9b59aefe-b7bf-4910-984a-c63985e2e93d",
       "rows": [
        [
         "1949-01-01 00:00:00",
         "112"
        ],
        [
         "1949-02-01 00:00:00",
         "118"
        ],
        [
         "1949-03-01 00:00:00",
         "132"
        ],
        [
         "1949-04-01 00:00:00",
         "129"
        ],
        [
         "1949-05-01 00:00:00",
         "121"
        ]
       ],
       "shape": {
        "columns": 1,
        "rows": 5
       }
      },
      "text/html": [
       "<div>\n",
       "<style scoped>\n",
       "    .dataframe tbody tr th:only-of-type {\n",
       "        vertical-align: middle;\n",
       "    }\n",
       "\n",
       "    .dataframe tbody tr th {\n",
       "        vertical-align: top;\n",
       "    }\n",
       "\n",
       "    .dataframe thead th {\n",
       "        text-align: right;\n",
       "    }\n",
       "</style>\n",
       "<table border=\"1\" class=\"dataframe\">\n",
       "  <thead>\n",
       "    <tr style=\"text-align: right;\">\n",
       "      <th></th>\n",
       "      <th>#Passengers</th>\n",
       "    </tr>\n",
       "    <tr>\n",
       "      <th>Month</th>\n",
       "      <th></th>\n",
       "    </tr>\n",
       "  </thead>\n",
       "  <tbody>\n",
       "    <tr>\n",
       "      <th>1949-01-01</th>\n",
       "      <td>112</td>\n",
       "    </tr>\n",
       "    <tr>\n",
       "      <th>1949-02-01</th>\n",
       "      <td>118</td>\n",
       "    </tr>\n",
       "    <tr>\n",
       "      <th>1949-03-01</th>\n",
       "      <td>132</td>\n",
       "    </tr>\n",
       "    <tr>\n",
       "      <th>1949-04-01</th>\n",
       "      <td>129</td>\n",
       "    </tr>\n",
       "    <tr>\n",
       "      <th>1949-05-01</th>\n",
       "      <td>121</td>\n",
       "    </tr>\n",
       "  </tbody>\n",
       "</table>\n",
       "</div>"
      ],
      "text/plain": [
       "            #Passengers\n",
       "Month                  \n",
       "1949-01-01          112\n",
       "1949-02-01          118\n",
       "1949-03-01          132\n",
       "1949-04-01          129\n",
       "1949-05-01          121"
      ]
     },
     "execution_count": 65,
     "metadata": {},
     "output_type": "execute_result"
    }
   ],
   "source": [
    "data.head()\n",
    "# now month column is the index"
   ]
  },
  {
   "cell_type": "code",
   "execution_count": 66,
   "id": "679b8fe3",
   "metadata": {},
   "outputs": [
    {
     "data": {
      "application/vnd.microsoft.datawrangler.viewer.v0+json": {
       "columns": [
        {
         "name": "Month",
         "rawType": "datetime64[ns]",
         "type": "datetime"
        },
        {
         "name": "#Passengers",
         "rawType": "int64",
         "type": "integer"
        }
       ],
       "ref": "d5f7e5a4-c089-47a6-8b73-bb12ed3a74a1",
       "rows": [
        [
         "1960-08-01 00:00:00",
         "606"
        ],
        [
         "1960-09-01 00:00:00",
         "508"
        ],
        [
         "1960-10-01 00:00:00",
         "461"
        ],
        [
         "1960-11-01 00:00:00",
         "390"
        ],
        [
         "1960-12-01 00:00:00",
         "432"
        ]
       ],
       "shape": {
        "columns": 1,
        "rows": 5
       }
      },
      "text/html": [
       "<div>\n",
       "<style scoped>\n",
       "    .dataframe tbody tr th:only-of-type {\n",
       "        vertical-align: middle;\n",
       "    }\n",
       "\n",
       "    .dataframe tbody tr th {\n",
       "        vertical-align: top;\n",
       "    }\n",
       "\n",
       "    .dataframe thead th {\n",
       "        text-align: right;\n",
       "    }\n",
       "</style>\n",
       "<table border=\"1\" class=\"dataframe\">\n",
       "  <thead>\n",
       "    <tr style=\"text-align: right;\">\n",
       "      <th></th>\n",
       "      <th>#Passengers</th>\n",
       "    </tr>\n",
       "    <tr>\n",
       "      <th>Month</th>\n",
       "      <th></th>\n",
       "    </tr>\n",
       "  </thead>\n",
       "  <tbody>\n",
       "    <tr>\n",
       "      <th>1960-08-01</th>\n",
       "      <td>606</td>\n",
       "    </tr>\n",
       "    <tr>\n",
       "      <th>1960-09-01</th>\n",
       "      <td>508</td>\n",
       "    </tr>\n",
       "    <tr>\n",
       "      <th>1960-10-01</th>\n",
       "      <td>461</td>\n",
       "    </tr>\n",
       "    <tr>\n",
       "      <th>1960-11-01</th>\n",
       "      <td>390</td>\n",
       "    </tr>\n",
       "    <tr>\n",
       "      <th>1960-12-01</th>\n",
       "      <td>432</td>\n",
       "    </tr>\n",
       "  </tbody>\n",
       "</table>\n",
       "</div>"
      ],
      "text/plain": [
       "            #Passengers\n",
       "Month                  \n",
       "1960-08-01          606\n",
       "1960-09-01          508\n",
       "1960-10-01          461\n",
       "1960-11-01          390\n",
       "1960-12-01          432"
      ]
     },
     "execution_count": 66,
     "metadata": {},
     "output_type": "execute_result"
    }
   ],
   "source": [
    "data.tail()"
   ]
  },
  {
   "cell_type": "code",
   "execution_count": 67,
   "id": "e595dca2",
   "metadata": {},
   "outputs": [
    {
     "data": {
      "application/vnd.microsoft.datawrangler.viewer.v0+json": {
       "columns": [
        {
         "name": "index",
         "rawType": "object",
         "type": "string"
        },
        {
         "name": "#Passengers",
         "rawType": "float64",
         "type": "float"
        }
       ],
       "ref": "27b60d13-05dd-4809-b435-98280fb4c538",
       "rows": [
        [
         "count",
         "144.0"
        ],
        [
         "mean",
         "280.2986111111111"
        ],
        [
         "std",
         "119.96631694294321"
        ],
        [
         "min",
         "104.0"
        ],
        [
         "25%",
         "180.0"
        ],
        [
         "50%",
         "265.5"
        ],
        [
         "75%",
         "360.5"
        ],
        [
         "max",
         "622.0"
        ]
       ],
       "shape": {
        "columns": 1,
        "rows": 8
       }
      },
      "text/html": [
       "<div>\n",
       "<style scoped>\n",
       "    .dataframe tbody tr th:only-of-type {\n",
       "        vertical-align: middle;\n",
       "    }\n",
       "\n",
       "    .dataframe tbody tr th {\n",
       "        vertical-align: top;\n",
       "    }\n",
       "\n",
       "    .dataframe thead th {\n",
       "        text-align: right;\n",
       "    }\n",
       "</style>\n",
       "<table border=\"1\" class=\"dataframe\">\n",
       "  <thead>\n",
       "    <tr style=\"text-align: right;\">\n",
       "      <th></th>\n",
       "      <th>#Passengers</th>\n",
       "    </tr>\n",
       "  </thead>\n",
       "  <tbody>\n",
       "    <tr>\n",
       "      <th>count</th>\n",
       "      <td>144.000000</td>\n",
       "    </tr>\n",
       "    <tr>\n",
       "      <th>mean</th>\n",
       "      <td>280.298611</td>\n",
       "    </tr>\n",
       "    <tr>\n",
       "      <th>std</th>\n",
       "      <td>119.966317</td>\n",
       "    </tr>\n",
       "    <tr>\n",
       "      <th>min</th>\n",
       "      <td>104.000000</td>\n",
       "    </tr>\n",
       "    <tr>\n",
       "      <th>25%</th>\n",
       "      <td>180.000000</td>\n",
       "    </tr>\n",
       "    <tr>\n",
       "      <th>50%</th>\n",
       "      <td>265.500000</td>\n",
       "    </tr>\n",
       "    <tr>\n",
       "      <th>75%</th>\n",
       "      <td>360.500000</td>\n",
       "    </tr>\n",
       "    <tr>\n",
       "      <th>max</th>\n",
       "      <td>622.000000</td>\n",
       "    </tr>\n",
       "  </tbody>\n",
       "</table>\n",
       "</div>"
      ],
      "text/plain": [
       "       #Passengers\n",
       "count   144.000000\n",
       "mean    280.298611\n",
       "std     119.966317\n",
       "min     104.000000\n",
       "25%     180.000000\n",
       "50%     265.500000\n",
       "75%     360.500000\n",
       "max     622.000000"
      ]
     },
     "execution_count": 67,
     "metadata": {},
     "output_type": "execute_result"
    }
   ],
   "source": [
    "data.describe()"
   ]
  },
  {
   "cell_type": "markdown",
   "id": "f04e238a",
   "metadata": {},
   "source": [
    "### **EDA**"
   ]
  },
  {
   "cell_type": "code",
   "execution_count": 68,
   "id": "3e65b374",
   "metadata": {},
   "outputs": [
    {
     "data": {
      "image/png": "[encoded data removed]",
      "text/plain": [
       "<Figure size 1200x400 with 1 Axes>"
      ]
     },
     "metadata": {},
     "output_type": "display_data"
    }
   ],
   "source": [
    "import matplotlib.pyplot as plt\n",
    "plt.figure(figsize= (12, 4), facecolor= 'w')\n",
    "plt.plot(data) # lineplot\n",
    "plt.tight_layout()\n",
    "plt.show()\n",
    "\n",
    "# From this plot, the data is non-stationary"
   ]
  },
  {
   "cell_type": "code",
   "execution_count": 69,
   "id": "e31bec37",
   "metadata": {},
   "outputs": [],
   "source": [
    "# we can also check the autocorrelation function (ACF)     plot to check if the series is stationary\n",
    "from statsmodels.graphics.tsaplots import plot_acf"
   ]
  },
  {
   "cell_type": "markdown",
   "id": "e3e078ed",
   "metadata": {},
   "source": [
    "**✅ Why Give lags=40 in plot_acf or plot_pacf?**\n",
    "\n",
    "🔹 Because you're asking:\n",
    "\"Show me how far back my current value is significantly correlated with its past values — up to how many time steps?\"\n",
    "\n",
    "So:\n",
    "\n",
    "**If you're modeling monthly data (like the AirPassengers dataset), lags=40 = 40 months = ~3.3 years**\n",
    "\n",
    "**That’s enough to reveal:**\n",
    "\n",
    "- Short-term structure (lags 1–12)\n",
    "- Seasonal effects (lags 12, 24, etc.)\n",
    "- Longer dependencies, if any\n",
    "\n",
    "**What if you don't specify lags?**\n",
    "Then:\n",
    "\n",
    "***plot_acf(data)***\n",
    "Defaults to:\n",
    "***lags = min(10, len(data) // 5)***\n",
    "So if you have 100 data points, you'll only get lags up to 10 — potentially missing seasonal patterns or longer-term lags.\n",
    "\n",
    "🔍 **Real-World Implication**\n",
    "Say your data has:\n",
    "\n",
    "- Strong yearly seasonality (like air passengers → peak in December)\n",
    "\n",
    "If You don’t specify lags\n",
    "\n",
    "- ACF/PACF only shows lag 1 to 10 → ❌ You miss lag 12 spike\n",
    "\n",
    "- You build a weak AR model that doesn’t account for seasonality\n",
    "\n",
    "🧠 Model fails to capture real-world behavior.\n",
    "\n",
    "🎯 **Strategic Lag Rule-of-Thumb**\n",
    "Data Frequency-->\tRecommended lags for ACF/PACF\n",
    "- Daily\t30–90 (to catch weekly/monthly)\n",
    "- Monthly\t36–48 (to catch annual cycles)\n",
    "- Quarterly\t12–20\n",
    "\n",
    "🧠 TL;DR\n",
    "Give lags=40 for monthly data to spot both short-term and seasonal relationships\n",
    "\n",
    "Don't omit lags unless you're just doing a quick glance\n",
    "\n",
    "Always tie lags to the frequency and domain knowledge of your time series\n"
   ]
  },
  {
   "cell_type": "code",
   "execution_count": 70,
   "id": "6f4ffb40",
   "metadata": {},
   "outputs": [
    {
     "data": {
      "image/png": "[encoded data removed]",
      "text/plain": [
       "<Figure size 640x480 with 1 Axes>"
      ]
     },
     "metadata": {},
     "output_type": "display_data"
    }
   ],
   "source": [
    "plot_acf(data, lags= 40)\n",
    "plt.title('Autocorrelation Function (ACF) of Air Passengers')\n",
    "plt.xlabel('Lags')\n",
    "plt.ylabel('Correlation')\n",
    "plt.show()"
   ]
  },
  {
   "cell_type": "code",
   "execution_count": 71,
   "id": "fa410172",
   "metadata": {},
   "outputs": [],
   "source": [
    "# Since the data is non=stationary, 👉differencing is done!--> differencing of order 1\n",
    "# Then the stationarity is checked.\n",
    "# If still non-stationary, go for the differncing of order 2"
   ]
  },
  {
   "cell_type": "code",
   "execution_count": 72,
   "id": "e8b491d3",
   "metadata": {},
   "outputs": [],
   "source": [
    "# Differencing of order 1\n",
    "data_diff1= data.diff(periods= 1)"
   ]
  },
  {
   "cell_type": "code",
   "execution_count": 73,
   "id": "bbcd3ab8",
   "metadata": {},
   "outputs": [
    {
     "data": {
      "application/vnd.microsoft.datawrangler.viewer.v0+json": {
       "columns": [
        {
         "name": "Month",
         "rawType": "datetime64[ns]",
         "type": "datetime"
        },
        {
         "name": "#Passengers",
         "rawType": "float64",
         "type": "float"
        }
       ],
       "ref": "1860e618-07d6-41bc-8d39-16be7789410b",
       "rows": [
        [
         "1949-01-01 00:00:00",
         null
        ],
        [
         "1949-02-01 00:00:00",
         "6.0"
        ],
        [
         "1949-03-01 00:00:00",
         "14.0"
        ],
        [
         "1949-04-01 00:00:00",
         "-3.0"
        ],
        [
         "1949-05-01 00:00:00",
         "-8.0"
        ],
        [
         "1949-06-01 00:00:00",
         "14.0"
        ],
        [
         "1949-07-01 00:00:00",
         "13.0"
        ],
        [
         "1949-08-01 00:00:00",
         "0.0"
        ],
        [
         "1949-09-01 00:00:00",
         "-12.0"
        ],
        [
         "1949-10-01 00:00:00",
         "-17.0"
        ],
        [
         "1949-11-01 00:00:00",
         "-15.0"
        ],
        [
         "1949-12-01 00:00:00",
         "14.0"
        ],
        [
         "1950-01-01 00:00:00",
         "-3.0"
        ],
        [
         "1950-02-01 00:00:00",
         "11.0"
        ],
        [
         "1950-03-01 00:00:00",
         "15.0"
        ],
        [
         "1950-04-01 00:00:00",
         "-6.0"
        ],
        [
         "1950-05-01 00:00:00",
         "-10.0"
        ],
        [
         "1950-06-01 00:00:00",
         "24.0"
        ],
        [
         "1950-07-01 00:00:00",
         "21.0"
        ],
        [
         "1950-08-01 00:00:00",
         "0.0"
        ],
        [
         "1950-09-01 00:00:00",
         "-12.0"
        ],
        [
         "1950-10-01 00:00:00",
         "-25.0"
        ],
        [
         "1950-11-01 00:00:00",
         "-19.0"
        ],
        [
         "1950-12-01 00:00:00",
         "26.0"
        ],
        [
         "1951-01-01 00:00:00",
         "5.0"
        ],
        [
         "1951-02-01 00:00:00",
         "5.0"
        ],
        [
         "1951-03-01 00:00:00",
         "28.0"
        ],
        [
         "1951-04-01 00:00:00",
         "-15.0"
        ],
        [
         "1951-05-01 00:00:00",
         "9.0"
        ],
        [
         "1951-06-01 00:00:00",
         "6.0"
        ],
        [
         "1951-07-01 00:00:00",
         "21.0"
        ],
        [
         "1951-08-01 00:00:00",
         "0.0"
        ],
        [
         "1951-09-01 00:00:00",
         "-15.0"
        ],
        [
         "1951-10-01 00:00:00",
         "-22.0"
        ],
        [
         "1951-11-01 00:00:00",
         "-16.0"
        ],
        [
         "1951-12-01 00:00:00",
         "20.0"
        ],
        [
         "1952-01-01 00:00:00",
         "5.0"
        ],
        [
         "1952-02-01 00:00:00",
         "9.0"
        ],
        [
         "1952-03-01 00:00:00",
         "13.0"
        ],
        [
         "1952-04-01 00:00:00",
         "-12.0"
        ],
        [
         "1952-05-01 00:00:00",
         "2.0"
        ],
        [
         "1952-06-01 00:00:00",
         "35.0"
        ],
        [
         "1952-07-01 00:00:00",
         "12.0"
        ],
        [
         "1952-08-01 00:00:00",
         "12.0"
        ],
        [
         "1952-09-01 00:00:00",
         "-33.0"
        ],
        [
         "1952-10-01 00:00:00",
         "-18.0"
        ],
        [
         "1952-11-01 00:00:00",
         "-19.0"
        ],
        [
         "1952-12-01 00:00:00",
         "22.0"
        ],
        [
         "1953-01-01 00:00:00",
         "2.0"
        ],
        [
         "1953-02-01 00:00:00",
         "0.0"
        ]
       ],
       "shape": {
        "columns": 1,
        "rows": 144
       }
      },
      "text/html": [
       "<div>\n",
       "<style scoped>\n",
       "    .dataframe tbody tr th:only-of-type {\n",
       "        vertical-align: middle;\n",
       "    }\n",
       "\n",
       "    .dataframe tbody tr th {\n",
       "        vertical-align: top;\n",
       "    }\n",
       "\n",
       "    .dataframe thead th {\n",
       "        text-align: right;\n",
       "    }\n",
       "</style>\n",
       "<table border=\"1\" class=\"dataframe\">\n",
       "  <thead>\n",
       "    <tr style=\"text-align: right;\">\n",
       "      <th></th>\n",
       "      <th>#Passengers</th>\n",
       "    </tr>\n",
       "    <tr>\n",
       "      <th>Month</th>\n",
       "      <th></th>\n",
       "    </tr>\n",
       "  </thead>\n",
       "  <tbody>\n",
       "    <tr>\n",
       "      <th>1949-01-01</th>\n",
       "      <td>NaN</td>\n",
       "    </tr>\n",
       "    <tr>\n",
       "      <th>1949-02-01</th>\n",
       "      <td>6.0</td>\n",
       "    </tr>\n",
       "    <tr>\n",
       "      <th>1949-03-01</th>\n",
       "      <td>14.0</td>\n",
       "    </tr>\n",
       "    <tr>\n",
       "      <th>1949-04-01</th>\n",
       "      <td>-3.0</td>\n",
       "    </tr>\n",
       "    <tr>\n",
       "      <th>1949-05-01</th>\n",
       "      <td>-8.0</td>\n",
       "    </tr>\n",
       "    <tr>\n",
       "      <th>...</th>\n",
       "      <td>...</td>\n",
       "    </tr>\n",
       "    <tr>\n",
       "      <th>1960-08-01</th>\n",
       "      <td>-16.0</td>\n",
       "    </tr>\n",
       "    <tr>\n",
       "      <th>1960-09-01</th>\n",
       "      <td>-98.0</td>\n",
       "    </tr>\n",
       "    <tr>\n",
       "      <th>1960-10-01</th>\n",
       "      <td>-47.0</td>\n",
       "    </tr>\n",
       "    <tr>\n",
       "      <th>1960-11-01</th>\n",
       "      <td>-71.0</td>\n",
       "    </tr>\n",
       "    <tr>\n",
       "      <th>1960-12-01</th>\n",
       "      <td>42.0</td>\n",
       "    </tr>\n",
       "  </tbody>\n",
       "</table>\n",
       "<p>144 rows × 1 columns</p>\n",
       "</div>"
      ],
      "text/plain": [
       "            #Passengers\n",
       "Month                  \n",
       "1949-01-01          NaN\n",
       "1949-02-01          6.0\n",
       "1949-03-01         14.0\n",
       "1949-04-01         -3.0\n",
       "1949-05-01         -8.0\n",
       "...                 ...\n",
       "1960-08-01        -16.0\n",
       "1960-09-01        -98.0\n",
       "1960-10-01        -47.0\n",
       "1960-11-01        -71.0\n",
       "1960-12-01         42.0\n",
       "\n",
       "[144 rows x 1 columns]"
      ]
     },
     "execution_count": 73,
     "metadata": {},
     "output_type": "execute_result"
    }
   ],
   "source": [
    "data_diff1"
   ]
  },
  {
   "cell_type": "code",
   "execution_count": 74,
   "id": "5e33a589",
   "metadata": {},
   "outputs": [
    {
     "data": {
      "application/vnd.microsoft.datawrangler.viewer.v0+json": {
       "columns": [
        {
         "name": "Month",
         "rawType": "datetime64[ns]",
         "type": "datetime"
        },
        {
         "name": "#Passengers",
         "rawType": "float64",
         "type": "float"
        }
       ],
       "ref": "f37730e5-95ab-47c8-a11d-88c4b48a5b85",
       "rows": [
        [
         "1949-02-01 00:00:00",
         "6.0"
        ],
        [
         "1949-03-01 00:00:00",
         "14.0"
        ],
        [
         "1949-04-01 00:00:00",
         "-3.0"
        ],
        [
         "1949-05-01 00:00:00",
         "-8.0"
        ],
        [
         "1949-06-01 00:00:00",
         "14.0"
        ],
        [
         "1949-07-01 00:00:00",
         "13.0"
        ],
        [
         "1949-08-01 00:00:00",
         "0.0"
        ],
        [
         "1949-09-01 00:00:00",
         "-12.0"
        ],
        [
         "1949-10-01 00:00:00",
         "-17.0"
        ],
        [
         "1949-11-01 00:00:00",
         "-15.0"
        ],
        [
         "1949-12-01 00:00:00",
         "14.0"
        ],
        [
         "1950-01-01 00:00:00",
         "-3.0"
        ],
        [
         "1950-02-01 00:00:00",
         "11.0"
        ],
        [
         "1950-03-01 00:00:00",
         "15.0"
        ],
        [
         "1950-04-01 00:00:00",
         "-6.0"
        ],
        [
         "1950-05-01 00:00:00",
         "-10.0"
        ],
        [
         "1950-06-01 00:00:00",
         "24.0"
        ],
        [
         "1950-07-01 00:00:00",
         "21.0"
        ],
        [
         "1950-08-01 00:00:00",
         "0.0"
        ],
        [
         "1950-09-01 00:00:00",
         "-12.0"
        ],
        [
         "1950-10-01 00:00:00",
         "-25.0"
        ],
        [
         "1950-11-01 00:00:00",
         "-19.0"
        ],
        [
         "1950-12-01 00:00:00",
         "26.0"
        ],
        [
         "1951-01-01 00:00:00",
         "5.0"
        ],
        [
         "1951-02-01 00:00:00",
         "5.0"
        ],
        [
         "1951-03-01 00:00:00",
         "28.0"
        ],
        [
         "1951-04-01 00:00:00",
         "-15.0"
        ],
        [
         "1951-05-01 00:00:00",
         "9.0"
        ],
        [
         "1951-06-01 00:00:00",
         "6.0"
        ],
        [
         "1951-07-01 00:00:00",
         "21.0"
        ],
        [
         "1951-08-01 00:00:00",
         "0.0"
        ],
        [
         "1951-09-01 00:00:00",
         "-15.0"
        ],
        [
         "1951-10-01 00:00:00",
         "-22.0"
        ],
        [
         "1951-11-01 00:00:00",
         "-16.0"
        ],
        [
         "1951-12-01 00:00:00",
         "20.0"
        ],
        [
         "1952-01-01 00:00:00",
         "5.0"
        ],
        [
         "1952-02-01 00:00:00",
         "9.0"
        ],
        [
         "1952-03-01 00:00:00",
         "13.0"
        ],
        [
         "1952-04-01 00:00:00",
         "-12.0"
        ],
        [
         "1952-05-01 00:00:00",
         "2.0"
        ],
        [
         "1952-06-01 00:00:00",
         "35.0"
        ],
        [
         "1952-07-01 00:00:00",
         "12.0"
        ],
        [
         "1952-08-01 00:00:00",
         "12.0"
        ],
        [
         "1952-09-01 00:00:00",
         "-33.0"
        ],
        [
         "1952-10-01 00:00:00",
         "-18.0"
        ],
        [
         "1952-11-01 00:00:00",
         "-19.0"
        ],
        [
         "1952-12-01 00:00:00",
         "22.0"
        ],
        [
         "1953-01-01 00:00:00",
         "2.0"
        ],
        [
         "1953-02-01 00:00:00",
         "0.0"
        ],
        [
         "1953-03-01 00:00:00",
         "40.0"
        ]
       ],
       "shape": {
        "columns": 1,
        "rows": 143
       }
      },
      "text/html": [
       "<div>\n",
       "<style scoped>\n",
       "    .dataframe tbody tr th:only-of-type {\n",
       "        vertical-align: middle;\n",
       "    }\n",
       "\n",
       "    .dataframe tbody tr th {\n",
       "        vertical-align: top;\n",
       "    }\n",
       "\n",
       "    .dataframe thead th {\n",
       "        text-align: right;\n",
       "    }\n",
       "</style>\n",
       "<table border=\"1\" class=\"dataframe\">\n",
       "  <thead>\n",
       "    <tr style=\"text-align: right;\">\n",
       "      <th></th>\n",
       "      <th>#Passengers</th>\n",
       "    </tr>\n",
       "    <tr>\n",
       "      <th>Month</th>\n",
       "      <th></th>\n",
       "    </tr>\n",
       "  </thead>\n",
       "  <tbody>\n",
       "    <tr>\n",
       "      <th>1949-02-01</th>\n",
       "      <td>6.0</td>\n",
       "    </tr>\n",
       "    <tr>\n",
       "      <th>1949-03-01</th>\n",
       "      <td>14.0</td>\n",
       "    </tr>\n",
       "    <tr>\n",
       "      <th>1949-04-01</th>\n",
       "      <td>-3.0</td>\n",
       "    </tr>\n",
       "    <tr>\n",
       "      <th>1949-05-01</th>\n",
       "      <td>-8.0</td>\n",
       "    </tr>\n",
       "    <tr>\n",
       "      <th>1949-06-01</th>\n",
       "      <td>14.0</td>\n",
       "    </tr>\n",
       "    <tr>\n",
       "      <th>...</th>\n",
       "      <td>...</td>\n",
       "    </tr>\n",
       "    <tr>\n",
       "      <th>1960-08-01</th>\n",
       "      <td>-16.0</td>\n",
       "    </tr>\n",
       "    <tr>\n",
       "      <th>1960-09-01</th>\n",
       "      <td>-98.0</td>\n",
       "    </tr>\n",
       "    <tr>\n",
       "      <th>1960-10-01</th>\n",
       "      <td>-47.0</td>\n",
       "    </tr>\n",
       "    <tr>\n",
       "      <th>1960-11-01</th>\n",
       "      <td>-71.0</td>\n",
       "    </tr>\n",
       "    <tr>\n",
       "      <th>1960-12-01</th>\n",
       "      <td>42.0</td>\n",
       "    </tr>\n",
       "  </tbody>\n",
       "</table>\n",
       "<p>143 rows × 1 columns</p>\n",
       "</div>"
      ],
      "text/plain": [
       "            #Passengers\n",
       "Month                  \n",
       "1949-02-01          6.0\n",
       "1949-03-01         14.0\n",
       "1949-04-01         -3.0\n",
       "1949-05-01         -8.0\n",
       "1949-06-01         14.0\n",
       "...                 ...\n",
       "1960-08-01        -16.0\n",
       "1960-09-01        -98.0\n",
       "1960-10-01        -47.0\n",
       "1960-11-01        -71.0\n",
       "1960-12-01         42.0\n",
       "\n",
       "[143 rows x 1 columns]"
      ]
     },
     "execution_count": 74,
     "metadata": {},
     "output_type": "execute_result"
    }
   ],
   "source": [
    "# Remove the 1st row (Nan- due to the diff of order 1)\n",
    "data_diff1= data_diff1.iloc[1:]\n",
    "data_diff1"
   ]
  },
  {
   "cell_type": "code",
   "execution_count": 75,
   "id": "5396ace5",
   "metadata": {},
   "outputs": [
    {
     "data": {
      "text/plain": [
       "143"
      ]
     },
     "execution_count": 75,
     "metadata": {},
     "output_type": "execute_result"
    }
   ],
   "source": [
    "# After removing the first row\n",
    "len(data_diff1) "
   ]
  },
  {
   "cell_type": "code",
   "execution_count": 76,
   "id": "493c48c7",
   "metadata": {},
   "outputs": [],
   "source": [
    "# Plotting the ACF again with the new series(data_diff1) as function of time lag between them"
   ]
  },
  {
   "cell_type": "code",
   "execution_count": 77,
   "id": "9ebbe190",
   "metadata": {},
   "outputs": [
    {
     "data": {
      "image/png": "[encoded data removed]",
      "text/plain": [
       "<Figure size 640x480 with 1 Axes>"
      ]
     },
     "execution_count": 77,
     "metadata": {},
     "output_type": "execute_result"
    },
    {
     "data": {
      "image/png": "[encoded data removed]",
      "text/plain": [
       "<Figure size 640x480 with 1 Axes>"
      ]
     },
     "metadata": {},
     "output_type": "display_data"
    },
    {
     "data": {
      "image/png": "[encoded data removed]",
      "text/plain": [
       "<Figure size 640x480 with 1 Axes>"
      ]
     },
     "metadata": {},
     "output_type": "display_data"
    }
   ],
   "source": [
    "from statsmodels.graphics.tsaplots import plot_acf, plot_pacf\n",
    "plot_acf(data_diff1, lags=40)\n",
    "plot_pacf(data_diff1, lags=40)"
   ]
  },
  {
   "cell_type": "markdown",
   "id": "1f8d038f",
   "metadata": {},
   "source": [
    "**ACF Vs PACF in Time Series**\n",
    "\n",
    "**ACF (Autocorrelation Function)**\n",
    "- It tells --> How correlated is the time series with its past values at lag 1, 2, 3..?\n",
    "- It ***includes both direct and indirect effects***\n",
    "  - For example: \n",
    "    - If ACF at lag 3 = correlation between y(t) and y(t-3)\n",
    "     but it also includes the indirect influence via y(t-2), y(t-1).\n",
    "\n",
    "**PACF (Partial Autocorrelation Function)**\n",
    "- It tells --> what is the pure correlation between y(t) and y(t-k), after removing the effects of lags 1 to k-1 ?\n",
    "- It measures the **direct effect of lag k, controlling for all lower lags**.\n"
   ]
  },
  {
   "cell_type": "markdown",
   "id": "f026ad95",
   "metadata": {},
   "source": [
    "**DIFFERENCE IN SIMPLE TERMS**\n",
    "- Concept--->ACF(Autocorrelation), 👉  PACF(Partial Autcorrelation)\n",
    "- Measures--> Total correlation,   👉  Direct correlation\n",
    "- Includes--> Direct + Indirect effects, 👉 Only direct effects\n",
    "- Used for--> Identifying MA(q) models, 👉 Identifying AR(p) models"
   ]
  },
  {
   "cell_type": "markdown",
   "id": "ce0ae0ae",
   "metadata": {},
   "source": [
    "**HOW ARE THEY USEFUL ?**\n",
    "- For fitting AR model(AutoReg),\n",
    "  - Use PACF to identify the correct number of lags(p) \n",
    "    - Look for the last significant spike (outside the confidence band)\n",
    "    - That lag is a good candidate for p (AR order).\n",
    "\n",
    "- For fitting MA models,\n",
    "  - Use ACF"
   ]
  },
  {
   "cell_type": "code",
   "execution_count": 78,
   "id": "147b3f06",
   "metadata": {},
   "outputs": [],
   "source": [
    "# Observation:\n",
    "# There is a few significiant spikes in lags and fast decline--> hence the series become stationary"
   ]
  },
  {
   "cell_type": "code",
   "execution_count": 79,
   "id": "afc0d365",
   "metadata": {},
   "outputs": [],
   "source": [
    "# Creating and training and testing sets\n",
    "\n",
    "# we cannot use train_test_split as it will randomly take the records for both the set\n",
    "# But in time series, we take records in the given order only. (since every new value depends on the past values)\n"
   ]
  },
  {
   "cell_type": "markdown",
   "id": "2a5a9ae8",
   "metadata": {},
   "source": [
    "## Train and test split"
   ]
  },
  {
   "cell_type": "code",
   "execution_count": 80,
   "id": "28e89525",
   "metadata": {},
   "outputs": [],
   "source": [
    "train_data= data_diff1[:100] #  - taken as training data (note index 0 is already removed)\n",
    "\n",
    "test_data= data_diff1[100:] # - testing data\n"
   ]
  },
  {
   "cell_type": "code",
   "execution_count": 81,
   "id": "00d14936",
   "metadata": {},
   "outputs": [
    {
     "data": {
      "text/plain": [
       "(100, 1)"
      ]
     },
     "execution_count": 81,
     "metadata": {},
     "output_type": "execute_result"
    }
   ],
   "source": [
    "train_data.shape"
   ]
  },
  {
   "cell_type": "code",
   "execution_count": 82,
   "id": "0344f2bd",
   "metadata": {},
   "outputs": [
    {
     "data": {
      "text/plain": [
       "(43, 1)"
      ]
     },
     "execution_count": 82,
     "metadata": {},
     "output_type": "execute_result"
    }
   ],
   "source": [
    "test_data.shape"
   ]
  },
  {
   "cell_type": "code",
   "execution_count": null,
   "id": "a4d55f48",
   "metadata": {},
   "outputs": [],
   "source": []
  },
  {
   "cell_type": "markdown",
   "id": "9f9f2b0a",
   "metadata": {},
   "source": [
    "## Applying autoregressive model"
   ]
  },
  {
   "cell_type": "code",
   "execution_count": 83,
   "id": "d82ace47",
   "metadata": {},
   "outputs": [],
   "source": [
    "import warnings\n",
    "warnings.filterwarnings(\"ignore\")"
   ]
  },
  {
   "cell_type": "markdown",
   "id": "a380728d",
   "metadata": {},
   "source": [
    "- This is monthly data (we took train_data  for 100 rows so for 100 months~ 8 years)\n",
    "- If we see the plot, we can the seasonal spikes at the end of each year like 12, 24 etc\n",
    "- so to capture seasonal harmonics we have to give minimum 1 year(lag 12)\n",
    "to around lags 24 or 36 \n",
    "- But not too high to avoid overfitting here since we have only 100 rows"
   ]
  },
  {
   "cell_type": "code",
   "execution_count": 84,
   "id": "e80f0157",
   "metadata": {},
   "outputs": [],
   "source": [
    "# Lag selection (finding optimal lag order values )and model fit\n",
    "from statsmodels.tsa.ar_model import ar_select_order, AutoReg"
   ]
  },
  {
   "cell_type": "code",
   "execution_count": 85,
   "id": "07c1dcc9",
   "metadata": {},
   "outputs": [
    {
     "name": "stdout",
     "output_type": "stream",
     "text": [
      "Selected lags: [1, 2, 3, 4, 5, 6, 7, 8, 9, 10, 11, 12, 13, 14, 15]\n"
     ]
    }
   ],
   "source": [
    "# Conservative upper bound to avoid overfitting\n",
    "max_lag = min(36, len(train_data) // 2)  # 36 months OR half the data\n",
    "\n",
    "# order = ar_select_order(train_data, maxlag=max_lag, ic='aic', glob=True)\n",
    "\n",
    "# 👆If glob = True means Global Subset Selection--> it tries all the combinations of lags upto maxlag and \n",
    "# gives out the best subset (like feature selection) using AIC ,\n",
    "#   it's like 2^36 ~= 68.7 billion combinations so that much hugh RAM allocation\n",
    "#       will crash the process.\n",
    "\n",
    "\n",
    "# 🧠 Pro Tip: Use glob=True only if:\n",
    "# You have < 15 lags\n",
    "# You suspect only some lags are useful\n",
    "# You have enough RAM\n",
    "# You want the most accurate subset model and can afford compute time\n",
    "\n",
    "# ❌ Avoid it when:\n",
    "# maxlag > 15 → Memory explodes (2^15 = 32,768 subsets)\n",
    "# You have limited RAM\n",
    "# You just need a quick, solid AR model (use glob=False)\n",
    "\n",
    "order = ar_select_order(train_data, maxlag=max_lag, ic='aic', glob=False)\n",
    "print(\"Selected lags:\", order.ar_lags)\n",
    "\n",
    "\n",
    "# these are the specific lag orders (in time steps) selected by the ar_select_order()\n",
    "# function as optimal for the AutoReg model.  \n",
    "\n",
    "# So lag 1, lag2...lag10, lag12, lag 13, lag 15, lag 20 all these lag values will be selected and applied\n",
    "# in the AR equation!"
   ]
  },
  {
   "cell_type": "markdown",
   "id": "17697978",
   "metadata": {},
   "source": [
    "✅ **What Does glob=True mean in ar_select_order()?**\n",
    "- **glob=True** = Global Subset Selection\n",
    "This means:\n",
    "\n",
    "- “Try all possible combinations of lag variables up to maxlag, and pick the best subset based on AIC/BIC.”\n",
    "\n",
    "- So instead of just testing AR(1), AR(2), … AR(36), it tries:\n",
    "\n",
    "  - [1]\n",
    "\n",
    "  - [1, 2]\n",
    "\n",
    "  - [1, 3]\n",
    "\n",
    "  - [1, 2, 3]\n",
    "\n",
    "  - [4, 12, 24]\n",
    "\n",
    "...\n",
    "\n",
    "- Every subset of lags up to maxlag\n",
    "\n",
    "- This is called Best Subset Selection — extremely powerful, but combinatorially expensive.\n",
    "\n",
    "**🤖 What Happens When glob=False?**\n",
    "- “Only test full AR(p) models for p = 1 to maxlag (i.e., all lags up to p).”\n",
    "\n",
    "- So:\n",
    "\n",
    "  - Try AR(1): lags = [1]\n",
    "\n",
    "  - Try AR(2): lags = [1, 2]\n",
    "\n",
    "  - ...\n",
    "\n",
    "  - Try AR(12): lags = [1, 2, ..., 12]\n",
    "\n",
    "  - This is called sequential order selection — way faster and memory-safe.\n"
   ]
  },
  {
   "cell_type": "code",
   "execution_count": 86,
   "id": "61fafa9b",
   "metadata": {},
   "outputs": [],
   "source": [
    "# Except: Lags 5, 8, 9, 11, 14, 16–19 were not selected — \n",
    "# # either because they weren't statistically significant or added noise.\n",
    "\n",
    "# This sparse selection is due to glob=True in ar_select_order(), \n",
    "# # which allows non-contiguous lag selection (like feature selection in ML)."
   ]
  },
  {
   "cell_type": "markdown",
   "id": "ca9ef24a",
   "metadata": {},
   "source": [
    "⚙️ How to Interpret This Practically?\n",
    "\n",
    "- lag 1 (yesterday) is most important — this is expected in most time series.\n",
    "\n",
    "- lag 2, lag 3, lag 4: Short memory effects — e.g., momentum.\n",
    "\n",
    "- lag 7, lag 14: Might hint at **weekly seasonality (if daily data)**.\n",
    "\n",
    "- lag 20: Long memory — could capture **slow trends or long-term effects.**"
   ]
  },
  {
   "cell_type": "markdown",
   "id": "15ecbb23",
   "metadata": {},
   "source": [
    "These lags are the most statistically useful past values to predict the current differenced value, according to AIC (or other IC) used."
   ]
  },
  {
   "cell_type": "markdown",
   "id": "b7dee09d",
   "metadata": {},
   "source": [
    "**maxlag**\n",
    "- It defines the maximum number of lag steps to evaluate as ***potential features in the AutoReg model.***\n",
    "  - Like \"Try all combinations from lag1 up to lag 20 -- and pick the best subset based on the AIC/ BIC\".\n",
    "\n",
    "**How should you choose maxlag?**\n",
    "- ✅ Rule of Thumb (Statistical & Practical)\n",
    "1. Depends on data frequency\n",
    " - Daily data? --> Try maxlag= 30  (monthly pattern)\n",
    " - Hourly data? --> Try maxlag= 48 (2 days), maxlag= 168 (1 week)\n",
    " - Monthly data? --> Try maxlag = 12 (1 year)\n",
    "2. Depends on data volume:\n",
    " - If you have only 100 points, maxlag= 50 will **overfit**\n",
    " - You need enough samples to estimate the coefficients reliably.\n",
    " - Safe upper bound: maxlag= len(train_data)// 10 to len(train_data) // 5\n",
    "3. Depends on your goal:\n",
    " - Short-term memory: ?--> Lower lags(5-20)\n",
    " - Long-term trends? --> Include Higher lags (30 - 60+)\n",
    " - Just want best performance? --> Try a range of maxlag values, and pick the one with the lowest AIC/ BIC\n",
    "\n",
    "🚨 **Pitfalls of blindly setting maxlag=20:**\n",
    "Problem\t--> What Happens\n",
    "- Too low (e.g. 10)--> You miss important patterns (e.g., seasonality at lag 30)\n",
    "- Too high (e.g. 100)--> Overfitting, slow computation, spurious correlations\n",
    "- Just default to 20 -->May miss better models — you're leaving performance on the table"
   ]
  },
  {
   "cell_type": "markdown",
   "id": "c0237bd9",
   "metadata": {},
   "source": [
    "- Set it based on your data's length, frequency, and seasonal structure."
   ]
  },
  {
   "cell_type": "code",
   "execution_count": null,
   "id": "b9022330",
   "metadata": {},
   "outputs": [],
   "source": [
    "# ✅ Pro-Level Strategy: Dynamic Lag Selection\n",
    "# maxlag = min(40, len(train_data) // 5)\n",
    "# order = ar_select_order(train_data, maxlag=maxlag, ic='aic', glob=True)\n",
    "\n",
    "# Or if you suspect weekly/monthly seasonality in daily data:\n",
    "# maxlag = 30 or 60  # Cover ~1–2 months"
   ]
  },
  {
   "cell_type": "code",
   "execution_count": 87,
   "id": "2d1c654c",
   "metadata": {},
   "outputs": [],
   "source": [
    "model= AutoReg(train_data, lags= order.ar_lags)\n",
    "ar_m= model.fit()"
   ]
  },
  {
   "cell_type": "code",
   "execution_count": 88,
   "id": "9c92461c",
   "metadata": {},
   "outputs": [],
   "source": [
    "# Predict future difference values (y_prediction--> using test_data)\n",
    "pred_diff= ar_m.predict(start= test_data.index[0], end= test_data.index[-1])"
   ]
  },
  {
   "cell_type": "code",
   "execution_count": 89,
   "id": "8aa0f3ce",
   "metadata": {},
   "outputs": [],
   "source": [
    "# y_prediction\n",
    "# prediction= ar_m.predict(start= 100, end= 142) # give the start index and end value index"
   ]
  },
  {
   "cell_type": "code",
   "execution_count": 90,
   "id": "b69ce7f6",
   "metadata": {},
   "outputs": [
    {
     "data": {
      "text/plain": [
       "[<matplotlib.lines.Line2D at 0x2c8b7962490>]"
      ]
     },
     "execution_count": 90,
     "metadata": {},
     "output_type": "execute_result"
    },
    {
     "data": {
      "image/png": "[encoded data removed]",
      "text/plain": [
       "<Figure size 640x480 with 1 Axes>"
      ]
     },
     "metadata": {},
     "output_type": "display_data"
    }
   ],
   "source": [
    "# comparing y_prediction and y_actual\n",
    "\n",
    "plt.plot(test_data) # y_actual \n",
    "plt.plot(pred_diff, color= 'green') # y_prediction"
   ]
  },
  {
   "cell_type": "markdown",
   "id": "f7032ce1",
   "metadata": {},
   "source": [
    "**ARIMA MODEL**"
   ]
  },
  {
   "cell_type": "code",
   "execution_count": 91,
   "id": "dc1fa844",
   "metadata": {},
   "outputs": [],
   "source": [
    "# No need to do differencing since ARIMA model does this by default"
   ]
  },
  {
   "cell_type": "code",
   "execution_count": 94,
   "id": "6f7916ee",
   "metadata": {},
   "outputs": [],
   "source": [
    "# train, test data split\n",
    "train= data[:100]\n",
    "test= data[100:]"
   ]
  },
  {
   "cell_type": "code",
   "execution_count": null,
   "id": "c79d08d2",
   "metadata": {},
   "outputs": [],
   "source": [
    "# Importing the library\n",
    "\n",
    "# from statsmodels.tsa.arima_model import ARIMA  (older version)\n",
    "from statsmodels.tsa.arima.model import ARIMA"
   ]
  },
  {
   "cell_type": "code",
   "execution_count": null,
   "id": "099aae41",
   "metadata": {},
   "outputs": [],
   "source": [
    "# model object creation and fitting the model\n",
    "model_arima= ARIMA(train, order=(2, 1, 2))  # (p, d, q) randomly give values for p, d, q\n",
    "\n",
    "# p= autoregressive model\n",
    "# d- how many times differencing is done (integrated order)\n",
    "# q- moving average model\n",
    "\n",
    "model_arima_fit= model_arima.fit() # training the model"
   ]
  },
  {
   "cell_type": "code",
   "execution_count": 97,
   "id": "88a5eb78",
   "metadata": {},
   "outputs": [
    {
     "name": "stdout",
     "output_type": "stream",
     "text": [
      "896.4336085163526\n"
     ]
    }
   ],
   "source": [
    "# evaluate the model\n",
    "print(model_arima_fit.aic) # Akaike Information Criterion (AIC) - lower the better\n"
   ]
  },
  {
   "cell_type": "markdown",
   "id": "51c427ec",
   "metadata": {},
   "source": [
    "#### Is there a threshold for AIC in time series?\n",
    "❌ No, there is no absolute threshold value for AIC (Akaike Information Criterion).\n",
    "\n",
    "#### Resons:\n",
    "- AIC is a relative metric, not an absolute one.\n",
    "- You only use it to compare multiple models on the same dataset.\n",
    "- **Lower AIC= better model** (in terms of balancing fit Vs compelxity)\n",
    "\n",
    "#### ✅Example:\n",
    "- If we compare ARIMA(1, 1, 0) Vs ARIMA(2, 1, 2)--> Pick the one with the lower AIC.\n",
    "- Same model on different data --> ❌AICs are not comparable across datasets\n",
    "\n",
    "#### Notes:\n",
    "- AIC penalizes models with too many paramets --> **prevents overfitting**.\n",
    "- AIC values can be negative too --> lower is still better\n",
    "- If two models are very close in AIC (within 2 points), choose the simpler one."
   ]
  },
  {
   "cell_type": "code",
   "execution_count": 98,
   "id": "77145414",
   "metadata": {},
   "outputs": [],
   "source": [
    "# forecasting future values\n",
    "# forecast() - forecasts data at a specific future point in time\n",
    "# predict()- refers to future data in general, not at a specific time\n",
    "forecast_9= model_arima_fit.forecast(steps= 9)  # # forecast for next 9 months since here each row represents monthly data\n",
    "\n",
    "# The result of the forecast() function is an array containing the forecast value,\n",
    "# the standard error of the forecast, and the confidence interval information.\n",
    "# we are only intrested in the first element of this forecast.. so index 0 to take 1st value if we use the old method of initializing the model\n",
    "# forecast_9[0] # gives the forecast value for the next 9 months (here no needed)"
   ]
  },
  {
   "cell_type": "code",
   "execution_count": 99,
   "id": "1fb8c676",
   "metadata": {},
   "outputs": [
    {
     "data": {
      "application/vnd.microsoft.datawrangler.viewer.v0+json": {
       "columns": [
        {
         "name": "index",
         "rawType": "datetime64[ns]",
         "type": "datetime"
        },
        {
         "name": "predicted_mean",
         "rawType": "float64",
         "type": "float"
        }
       ],
       "ref": "e47839f4-91ab-4692-aeba-58ed716cc8f0",
       "rows": [
        [
         "1957-05-01 00:00:00",
         "326.7454509551428"
        ],
        [
         "1957-06-01 00:00:00",
         "332.367349317926"
        ],
        [
         "1957-07-01 00:00:00",
         "328.51609264606844"
        ],
        [
         "1957-08-01 00:00:00",
         "328.9518504390896"
        ],
        [
         "1957-09-01 00:00:00",
         "328.11029611496076"
        ],
        [
         "1957-10-01 00:00:00",
         "328.0101837310732"
        ],
        [
         "1957-11-01 00:00:00",
         "327.7781325139949"
        ],
        [
         "1957-12-01 00:00:00",
         "327.69625076806085"
        ],
        [
         "1958-01-01 00:00:00",
         "327.6188826066052"
        ]
       ],
       "shape": {
        "columns": 1,
        "rows": 9
       }
      },
      "text/plain": [
       "1957-05-01    326.745451\n",
       "1957-06-01    332.367349\n",
       "1957-07-01    328.516093\n",
       "1957-08-01    328.951850\n",
       "1957-09-01    328.110296\n",
       "1957-10-01    328.010184\n",
       "1957-11-01    327.778133\n",
       "1957-12-01    327.696251\n",
       "1958-01-01    327.618883\n",
       "Freq: MS, Name: predicted_mean, dtype: float64"
      ]
     },
     "execution_count": 99,
     "metadata": {},
     "output_type": "execute_result"
    }
   ],
   "source": [
    "forecast_9"
   ]
  },
  {
   "cell_type": "code",
   "execution_count": 100,
   "id": "6d3244da",
   "metadata": {},
   "outputs": [
    {
     "data": {
      "text/plain": [
       "[<matplotlib.lines.Line2D at 0x2c8babb54d0>]"
      ]
     },
     "execution_count": 100,
     "metadata": {},
     "output_type": "execute_result"
    },
    {
     "data": {
      "image/png": "[encoded data removed]",
      "text/plain": [
       "<Figure size 640x480 with 1 Axes>"
      ]
     },
     "metadata": {},
     "output_type": "display_data"
    }
   ],
   "source": [
    "## plotting the forecasted values\n",
    "plt.plot(forecast_9, color= 'green')"
   ]
  },
  {
   "cell_type": "code",
   "execution_count": 101,
   "id": "898f2f43",
   "metadata": {},
   "outputs": [
    {
     "data": {
      "text/plain": [
       "[(0, 0, 0),\n",
       " (0, 0, 1),\n",
       " (0, 0, 2),\n",
       " (0, 0, 3),\n",
       " (0, 1, 0),\n",
       " (0, 1, 1),\n",
       " (0, 1, 2),\n",
       " (0, 1, 3),\n",
       " (0, 2, 0),\n",
       " (0, 2, 1),\n",
       " (0, 2, 2),\n",
       " (0, 2, 3),\n",
       " (0, 3, 0),\n",
       " (0, 3, 1),\n",
       " (0, 3, 2),\n",
       " (0, 3, 3),\n",
       " (1, 0, 0),\n",
       " (1, 0, 1),\n",
       " (1, 0, 2),\n",
       " (1, 0, 3),\n",
       " (1, 1, 0),\n",
       " (1, 1, 1),\n",
       " (1, 1, 2),\n",
       " (1, 1, 3),\n",
       " (1, 2, 0),\n",
       " (1, 2, 1),\n",
       " (1, 2, 2),\n",
       " (1, 2, 3),\n",
       " (1, 3, 0),\n",
       " (1, 3, 1),\n",
       " (1, 3, 2),\n",
       " (1, 3, 3),\n",
       " (2, 0, 0),\n",
       " (2, 0, 1),\n",
       " (2, 0, 2),\n",
       " (2, 0, 3),\n",
       " (2, 1, 0),\n",
       " (2, 1, 1),\n",
       " (2, 1, 2),\n",
       " (2, 1, 3),\n",
       " (2, 2, 0),\n",
       " (2, 2, 1),\n",
       " (2, 2, 2),\n",
       " (2, 2, 3),\n",
       " (2, 3, 0),\n",
       " (2, 3, 1),\n",
       " (2, 3, 2),\n",
       " (2, 3, 3),\n",
       " (3, 0, 0),\n",
       " (3, 0, 1),\n",
       " (3, 0, 2),\n",
       " (3, 0, 3),\n",
       " (3, 1, 0),\n",
       " (3, 1, 1),\n",
       " (3, 1, 2),\n",
       " (3, 1, 3),\n",
       " (3, 2, 0),\n",
       " (3, 2, 1),\n",
       " (3, 2, 2),\n",
       " (3, 2, 3),\n",
       " (3, 3, 0),\n",
       " (3, 3, 1),\n",
       " (3, 3, 2),\n",
       " (3, 3, 3)]"
      ]
     },
     "execution_count": 101,
     "metadata": {},
     "output_type": "execute_result"
    }
   ],
   "source": [
    "# Getting the optimal values of p, q and d\n",
    "\n",
    "import itertools\n",
    "\n",
    "p= d= q= range(0, 4)  # Example range for p, d, q (0 to 3) for every value of p, d, q , eg, (0,0,0), (0, 0, 1) etc\n",
    "\n",
    "pdq= list(itertools.product(p, d, q)) # is used to find the cartesian  product from the given iterator,\n",
    "pdq # list of all possible combinations of p, d, q values"
   ]
  },
  {
   "cell_type": "code",
   "execution_count": 102,
   "id": "76b9f5c8",
   "metadata": {},
   "outputs": [
    {
     "name": "stdout",
     "output_type": "stream",
     "text": [
      "(0, 0, 0) 1148.190653813253\n",
      "(0, 0, 1) 1033.375602829176\n",
      "(0, 0, 2) 989.3197443781638\n",
      "(0, 0, 3) 940.5494805802805\n",
      "(0, 1, 0) 908.784995814377\n",
      "(0, 1, 1) 903.5482389933231\n",
      "(0, 1, 2) 899.4681439906313\n",
      "(0, 1, 3) 899.5328677241858\n",
      "(0, 2, 0) 944.3964607216842\n",
      "(0, 2, 1) 906.211828633948\n",
      "(0, 2, 2) 900.9207402574709\n",
      "(0, 2, 3) 897.0194041603952\n",
      "(0, 3, 0) 1023.9951650883349\n",
      "(0, 3, 1) 942.3523478268934\n",
      "(0, 3, 2) 909.9469378879959\n",
      "(0, 3, 3) 903.8626232602342\n",
      "(1, 0, 0) 923.0215760291889\n",
      "(1, 0, 1) 915.8508258905885\n",
      "(1, 0, 2) 913.8596726782683\n",
      "(1, 0, 3) 915.120006687788\n",
      "(1, 1, 0) 906.0250622827102\n",
      "(1, 1, 1) 898.9105789419357\n",
      "(1, 1, 2) 895.8917814804191\n",
      "(1, 1, 3) 897.5910140124594\n",
      "(1, 2, 0) 938.978938607816\n",
      "(1, 2, 1) 903.3813732552369\n",
      "(1, 2, 2) 896.3584847249858\n",
      "(1, 2, 3) 898.1945255859307\n",
      "(1, 3, 0) 998.1706044772707\n",
      "(1, 3, 1) 937.4879489020698\n",
      "(1, 3, 2) 942.0759684080703\n",
      "(1, 3, 3) 901.29063251813\n",
      "(2, 0, 0) 918.7055333898826\n",
      "(2, 0, 1) 912.3762607626879\n",
      "(2, 0, 2) 913.9136106868984\n",
      "(2, 0, 3) 913.2499548238591\n",
      "(2, 1, 0) 903.7457984725753\n",
      "(2, 1, 1) 896.369003340094\n",
      "(2, 1, 2) 896.4336085163526\n",
      "(2, 1, 3) 896.4009041662755\n",
      "(2, 2, 0) 929.4629438602959\n",
      "(2, 2, 1) 901.2889486579637\n",
      "(2, 2, 2) 898.2441681344285\n",
      "(2, 2, 3) 899.8413000498692\n",
      "(2, 3, 0) 968.543318785465\n",
      "(2, 3, 1) 928.6522715981761\n",
      "(2, 3, 2) 929.147653779715\n",
      "(2, 3, 3) 903.7795344715042\n",
      "(3, 0, 0) 917.52800305524\n",
      "(3, 0, 1) 913.9875826445545\n",
      "(3, 0, 2) 915.8526622330189\n",
      "(3, 0, 3) 912.0838035773415\n",
      "(3, 1, 0) 905.4551584736764\n",
      "(3, 1, 1) 898.2158699672602\n",
      "(3, 1, 2) 894.1808778389083\n",
      "(3, 1, 3) 874.846743522401\n",
      "(3, 2, 0) 931.1193611988881\n",
      "(3, 2, 1) 903.0123781571373\n",
      "(3, 2, 2) 899.5582364113538\n",
      "(3, 2, 3) 882.5388619171798\n",
      "(3, 3, 0) 968.5106134864197\n",
      "(3, 3, 1) 930.4165286773899\n",
      "(3, 3, 2) 928.0760246878914\n",
      "(3, 3, 3) 904.7791163712208\n"
     ]
    }
   ],
   "source": [
    "import warnings\n",
    "warnings.filterwarnings(\"ignore\")\n",
    "\n",
    "# The python try-- except statement is used to handle exceptions (errors) gracefully\n",
    "# It is used to test code for errors and execute the exception block if an error occurs.\n",
    "\n",
    "for params in pdq:\n",
    "    try:\n",
    "        model_arima= ARIMA(train, order= params) # training model on various pdq values\n",
    "        model_arima_fit= model_arima.fit() # training\n",
    "        print(params, model_arima_fit.aic) # printing the parameter and aic values\n",
    "    except:\n",
    "        continue\n",
    "# The above code will try to fit the ARIMA model with different combinations of p, d, q values.\n",
    "# If it fails (due to non-invertibility or other issues), it will skip that combination and continue with the next one.\n",
    "# The output will show the combinations of p, d, q values along with their corresponding AIC values.\n",
    "# The AIC values help in selecting the best model by comparing the AIC values of different models.\n",
    "# The lower the AIC value, the better the model fit.\n"
   ]
  },
  {
   "cell_type": "code",
   "execution_count": 103,
   "id": "ffd4e8df",
   "metadata": {},
   "outputs": [],
   "source": [
    "# From the above result, (3, 1, 3) 874.846743522401 --> has the lowest AIC value\n",
    "# so training the model with these values\n",
    "model_arima= ARIMA(train , order= (3, 1, 3))\n",
    "\n",
    "model_arima_fit= model_arima.fit() # training the model"
   ]
  },
  {
   "cell_type": "code",
   "execution_count": 104,
   "id": "10e6ca2f",
   "metadata": {},
   "outputs": [],
   "source": [
    "forecast= model_arima_fit.forecast(steps= 9)"
   ]
  },
  {
   "cell_type": "code",
   "execution_count": 105,
   "id": "3bc4d589",
   "metadata": {},
   "outputs": [
    {
     "data": {
      "application/vnd.microsoft.datawrangler.viewer.v0+json": {
       "columns": [
        {
         "name": "index",
         "rawType": "datetime64[ns]",
         "type": "datetime"
        },
        {
         "name": "predicted_mean",
         "rawType": "float64",
         "type": "float"
        }
       ],
       "ref": "cfcc7f28-ece0-4399-947c-b6f693ccc018",
       "rows": [
        [
         "1957-05-01 00:00:00",
         "356.0054484952519"
        ],
        [
         "1957-06-01 00:00:00",
         "369.6321810907987"
        ],
        [
         "1957-07-01 00:00:00",
         "361.0619460472851"
        ],
        [
         "1957-08-01 00:00:00",
         "352.9903051008073"
        ],
        [
         "1957-09-01 00:00:00",
         "332.8160282974575"
        ],
        [
         "1957-10-01 00:00:00",
         "318.273063530215"
        ],
        [
         "1957-11-01 00:00:00",
         "303.67261204601226"
        ],
        [
         "1957-12-01 00:00:00",
         "299.9121331793896"
        ],
        [
         "1958-01-01 00:00:00",
         "301.54588973850775"
        ]
       ],
       "shape": {
        "columns": 1,
        "rows": 9
       }
      },
      "text/plain": [
       "1957-05-01    356.005448\n",
       "1957-06-01    369.632181\n",
       "1957-07-01    361.061946\n",
       "1957-08-01    352.990305\n",
       "1957-09-01    332.816028\n",
       "1957-10-01    318.273064\n",
       "1957-11-01    303.672612\n",
       "1957-12-01    299.912133\n",
       "1958-01-01    301.545890\n",
       "Freq: MS, Name: predicted_mean, dtype: float64"
      ]
     },
     "execution_count": 105,
     "metadata": {},
     "output_type": "execute_result"
    }
   ],
   "source": [
    "forecast"
   ]
  },
  {
   "cell_type": "code",
   "execution_count": 106,
   "id": "2d71f23e",
   "metadata": {},
   "outputs": [
    {
     "data": {
      "text/plain": [
       "[<matplotlib.lines.Line2D at 0x2c8baa81150>]"
      ]
     },
     "execution_count": 106,
     "metadata": {},
     "output_type": "execute_result"
    },
    {
     "data": {
      "image/png": "[encoded data removed]",
      "text/plain": [
       "<Figure size 640x480 with 1 Axes>"
      ]
     },
     "metadata": {},
     "output_type": "display_data"
    }
   ],
   "source": [
    "plt.plot(forecast, color= 'green') # lineplot for prediction"
   ]
  },
  {
   "cell_type": "code",
   "execution_count": null,
   "id": "c2943d34",
   "metadata": {},
   "outputs": [],
   "source": []
  }
 ],
 "metadata": {
  "kernelspec": {
   "display_name": "base",
   "language": "python",
   "name": "python3"
  },
  "language_info": {
   "codemirror_mode": {
    "name": "ipython",
    "version": 3
   },
   "file_extension": ".py",
   "mimetype": "text/x-python",
   "name": "python",
   "nbconvert_exporter": "python",
   "pygments_lexer": "ipython3",
   "version": "3.11.5"
  }
 },
 "nbformat": 4,
 "nbformat_minor": 5
}
